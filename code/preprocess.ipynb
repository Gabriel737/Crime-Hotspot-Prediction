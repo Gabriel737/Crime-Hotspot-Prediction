{
 "cells": [
  {
   "cell_type": "code",
   "execution_count": 94,
   "id": "2d2ddb2d",
   "metadata": {},
   "outputs": [],
   "source": [
    "import numpy as np\n",
    "import pandas as pd\n",
    "import config\n",
    "from datetime import datetime\n",
    "\n",
    "import utm"
   ]
  },
  {
   "cell_type": "code",
   "execution_count": 95,
   "id": "ab581313",
   "metadata": {},
   "outputs": [],
   "source": [
    "# Import data\n",
    "crime_data = pd.read_csv('../data/crimedata_allneighbourhoods_allyears.csv')"
   ]
  },
  {
   "cell_type": "code",
   "execution_count": 96,
   "id": "16fc1b53",
   "metadata": {
    "tags": []
   },
   "outputs": [],
   "source": [
    "# Rename columns X and Y to UTM_X and UTM_Y\n",
    "crime_data.rename(columns={'X':'UTM_E','Y':'UTM_N'},inplace=True)"
   ]
  },
  {
   "cell_type": "markdown",
   "id": "3f2e30d5-b42f-40d3-8acc-cb7b9514c952",
   "metadata": {},
   "source": [
    "Some crime instances have location coordinates NaN, suggesting missing location data. These instances have been removed."
   ]
  },
  {
   "cell_type": "code",
   "execution_count": 97,
   "id": "9058bc0b-dc5d-46b6-8e46-5d34a2ed8af0",
   "metadata": {},
   "outputs": [],
   "source": [
    "# Remove for NaNs among relevant columns\n",
    "processed_crime_data = crime_data[~crime_data.isna().any(axis=1)]"
   ]
  },
  {
   "cell_type": "markdown",
   "id": "1bf4f3b7-c58c-497b-b3c6-304a9eb8f8ae",
   "metadata": {},
   "source": [
    "Some crime types (*Homicide* and *Offense Against a Person*) have instances with location coordinates mentioned as 0 due to privacy concerns. To address this, we have generated random location coordinates within the provided neighbourhood in order to retain these instances."
   ]
  },
  {
   "cell_type": "code",
   "execution_count": 98,
   "id": "1c9162f5-9525-4424-9cc9-5ea56cf0894f",
   "metadata": {},
   "outputs": [],
   "source": [
    "# For now removing these crime types\n",
    "processed_crime_data = processed_crime_data[~processed_crime_data['TYPE'].isin(['Homicide','Offence Against a Person'])]\n"
   ]
  },
  {
   "cell_type": "code",
   "execution_count": 99,
   "id": "c08b226a",
   "metadata": {},
   "outputs": [],
   "source": [
    "# Convert UTM coordinates to Latitude and Longitude\n",
    "def utm2latlong(utm_x, utm_y, utm_zone_no, utm_zone_ltr):\n",
    "    lat, long = utm.to_latlon(utm_x, utm_y, utm_zone_no, utm_zone_ltr)\n",
    "    return lat,long"
   ]
  },
  {
   "cell_type": "code",
   "execution_count": 100,
   "id": "5c3a957c",
   "metadata": {
    "tags": []
   },
   "outputs": [],
   "source": [
    "# Convert UTM coordinates to latitude and longitude\n",
    "processed_crime_data['LAT'], processed_crime_data['LONG'] = utm2latlong(processed_crime_data['UTM_E'],\n",
    "                                                                        processed_crime_data['UTM_N'],\n",
    "                                                                        config.UTM_ZONE_NO, \n",
    "                                                                        config.UTM_ZONE_LTR)"
   ]
  },
  {
   "cell_type": "code",
   "execution_count": 101,
   "id": "2cac27d5-d094-4529-911c-157d18dcc9bb",
   "metadata": {},
   "outputs": [],
   "source": [
    "# Function to create bins\n",
    "def getBins(min_,max_,n_bins):\n",
    "    bins = np.linspace(start=min_, stop=max_, num=n_bins+1)\n",
    "    return bins"
   ]
  },
  {
   "cell_type": "code",
   "execution_count": 102,
   "id": "90573db6-2792-473c-bc44-4d0332c3a92c",
   "metadata": {},
   "outputs": [],
   "source": [
    "## Generate latitude and longitude bins\n",
    "\n",
    "# Number of bins = bounding box length/ length of each cell\n",
    "n_bins = int(config.BB_DIST/config.BB_CELL_LEN)\n",
    "    \n",
    "# Get minimum and maxiumum values for longitudes and latitudes of bounding box vertices\n",
    "min_lat = min(config.BB_VERTICES.values(), key = lambda x: x['lat'])['lat']\n",
    "max_lat = max(config.BB_VERTICES.values(), key = lambda x: x['lat'])['lat']\n",
    "\n",
    "min_long = min(config.BB_VERTICES.values(), key = lambda x: x['long'])['long']\n",
    "max_long = max(config.BB_VERTICES.values(), key = lambda x: x['long'])['long']\n",
    "\n",
    "# Divide bounding box into bins\n",
    "lat_bins = getBins(min_=min_lat, max_=max_lat, n_bins=n_bins)\n",
    "long_bins = getBins(min_=min_long, max_=max_long, n_bins=n_bins)"
   ]
  },
  {
   "cell_type": "code",
   "execution_count": 103,
   "id": "c5641be4-afa4-44d4-887e-f55ea1b34105",
   "metadata": {},
   "outputs": [],
   "source": [
    "# Function to generate cell coordinates\n",
    "def getCellLocs(lats,longs,lat_bins,long_bins, correction=False):\n",
    "    \n",
    "    # Assign x coordinate of cell. X coordinates can range from 1 to lat_bins and are upper bound.\n",
    "    # Location coordinates laying outside the bounding box are labelled as either 0 or len(lat_bins)\n",
    "    cell_x = np.digitize(lats,lat_bins,right=True)\n",
    "    \n",
    "    # Assign x coordinate of cell. Y coordinates can range from 1 to long_bins and are upper bound.\n",
    "    # Location coordinates laying outside the bounding box are labelled as either 0 or len(long_bins)\n",
    "    cell_y = np.digitize(longs,long_bins,right=True)\n",
    "    \n",
    "    if correction == True:\n",
    "        cell_x_corr = [i-1 if i==len(lat_bins) else i+1 if i==0 else i for i in cell_x] \n",
    "        cell_y_corr = [i-1 if i==len(long_bins) else i+1 if i==0 else i for i in cell_y]\n",
    "        \n",
    "        return cell_x_corr, cell_y_corr\n",
    "    \n",
    "    elif correction == False:\n",
    "        cell_x_excl = [-1 if i==0 or i==len(lat_bins) else i for i in cell_x]\n",
    "        cell_y_excl = [-1 if i==0 or i==len(long_bins) else i for i in cell_y]\n",
    "        \n",
    "        return cell_x_excl, cell_y_excl"
   ]
  },
  {
   "cell_type": "code",
   "execution_count": 104,
   "id": "fd1043a0",
   "metadata": {},
   "outputs": [],
   "source": [
    "## Generate cell coordinates\n",
    "processed_crime_data['CELL_X'],processed_crime_data['CELL_Y'] = getCellLocs(lats=processed_crime_data['LAT'].values,\n",
    "                                                                            longs=processed_crime_data['LONG'].values,\n",
    "                                                                            lat_bins=lat_bins,\n",
    "                                                                            long_bins=long_bins,\n",
    "                                                                            correction=True)\n",
    "# Filter out rows with cell coordinate values as -1 (occur in the case on correction == False)\n",
    "processed_crime_data = processed_crime_data[(processed_crime_data['CELL_X'] > -1) & \n",
    "                                            (processed_crime_data['CELL_Y'] > -1)]"
   ]
  },
  {
   "cell_type": "code",
   "execution_count": 105,
   "id": "43ca3846-586c-407f-8e07-778bc5f9660d",
   "metadata": {},
   "outputs": [],
   "source": [
    "# Function to fetch crime date from day, month and year\n",
    "def getDate(day, month, year):\n",
    "    dt = datetime(year, month, day)\n",
    "    date = dt.date()\n",
    "    return date"
   ]
  },
  {
   "cell_type": "code",
   "execution_count": 106,
   "id": "a428dab6-375c-483f-8609-582af9df3074",
   "metadata": {},
   "outputs": [],
   "source": [
    "# Fetch crime date\n",
    "processed_crime_data['DATE'] = processed_crime_data.apply(lambda row: getDate(day=row['DAY'],\n",
    "                                                                              month=row['MONTH'],\n",
    "                                                                              year=row['YEAR']),axis=1)\n",
    "\n",
    "# Order by crime date\n",
    "processed_crime_data.sort_values(by='DATE', inplace=True)"
   ]
  },
  {
   "cell_type": "code",
   "execution_count": 107,
   "id": "55de183a-ca89-422a-b97b-df2aad116906",
   "metadata": {},
   "outputs": [],
   "source": [
    "# Fetch crime broad category\n",
    "processed_crime_data['CAT'] = processed_crime_data.apply(lambda row: config.TYPE2CAT[row['TYPE']],axis=1)"
   ]
  },
  {
   "cell_type": "code",
   "execution_count": 108,
   "id": "9a254102-109b-4767-9cf8-8629a4aa8a92",
   "metadata": {},
   "outputs": [],
   "source": [
    "# Save processed crime data as pickle\n",
    "processed_crime_data.to_pickle('../data/processed_crime_data.pkl')"
   ]
  },
  {
   "cell_type": "markdown",
   "id": "d3285937-83fc-4743-966a-9a8db0484853",
   "metadata": {},
   "source": [
    "Still working on the code below"
   ]
  },
  {
   "cell_type": "code",
   "execution_count": 88,
   "id": "577df7b2-9c07-4c7e-8878-37d0c3515c5a",
   "metadata": {},
   "outputs": [],
   "source": [
    "crime_pivot = processed_crime_data.pivot_table(values='TYPE', index=['DATE','CAT'], columns=['CELL_X','CELL_Y'], aggfunc='count')"
   ]
  },
  {
   "cell_type": "code",
   "execution_count": 89,
   "id": "0ad9d9de-40b0-401d-9f0f-e7a32b5e25bb",
   "metadata": {},
   "outputs": [],
   "source": [
    "crime_pivot.columns = crime_pivot.columns.to_flat_index()"
   ]
  },
  {
   "cell_type": "code",
   "execution_count": 74,
   "id": "1eaf42ab-9634-4248-aa1e-18138eca1d28",
   "metadata": {},
   "outputs": [],
   "source": [
    "crime_pivot.reset_index(inplace=True)"
   ]
  },
  {
   "cell_type": "code",
   "execution_count": 93,
   "id": "0f9a056a-376c-46d2-8b14-79c6797f52eb",
   "metadata": {},
   "outputs": [
    {
     "data": {
      "text/plain": [
       "MultiIndex([(2003-01-01,   'Break and Enter'),\n",
       "            (2003-01-01,          'Mischief'),\n",
       "            (2003-01-01,             'Theft'),\n",
       "            (2003-01-01, 'Vehicle Collision'),\n",
       "            (2003-01-02,   'Break and Enter'),\n",
       "            (2003-01-02,          'Mischief'),\n",
       "            (2003-01-02,             'Theft'),\n",
       "            (2003-01-02, 'Vehicle Collision'),\n",
       "            (2003-01-03,   'Break and Enter'),\n",
       "            (2003-01-03,          'Mischief'),\n",
       "            ...\n",
       "            (2022-02-09,          'Mischief'),\n",
       "            (2022-02-09,             'Theft'),\n",
       "            (2022-02-09, 'Vehicle Collision'),\n",
       "            (2022-02-10,   'Break and Enter'),\n",
       "            (2022-02-10,          'Mischief'),\n",
       "            (2022-02-10,             'Theft'),\n",
       "            (2022-02-10, 'Vehicle Collision'),\n",
       "            (2022-02-11,   'Break and Enter'),\n",
       "            (2022-02-11,          'Mischief'),\n",
       "            (2022-02-11,             'Theft')],\n",
       "           names=['DATE', 'CAT'], length=27666)"
      ]
     },
     "execution_count": 93,
     "metadata": {},
     "output_type": "execute_result"
    }
   ],
   "source": [
    "crime_pivot.index"
   ]
  },
  {
   "cell_type": "code",
   "execution_count": 87,
   "id": "ae3831c9-fc91-4f61-b797-04733e2f2abf",
   "metadata": {},
   "outputs": [
    {
     "data": {
      "text/html": [
       "<div>\n",
       "<style scoped>\n",
       "    .dataframe tbody tr th:only-of-type {\n",
       "        vertical-align: middle;\n",
       "    }\n",
       "\n",
       "    .dataframe tbody tr th {\n",
       "        vertical-align: top;\n",
       "    }\n",
       "\n",
       "    .dataframe thead th {\n",
       "        text-align: right;\n",
       "    }\n",
       "</style>\n",
       "<table border=\"1\" class=\"dataframe\">\n",
       "  <thead>\n",
       "    <tr style=\"text-align: right;\">\n",
       "      <th></th>\n",
       "      <th>TYPE</th>\n",
       "      <th>YEAR</th>\n",
       "      <th>MONTH</th>\n",
       "      <th>DAY</th>\n",
       "      <th>HOUR</th>\n",
       "      <th>MINUTE</th>\n",
       "      <th>HUNDRED_BLOCK</th>\n",
       "      <th>NEIGHBOURHOOD</th>\n",
       "      <th>UTM_E</th>\n",
       "      <th>UTM_N</th>\n",
       "      <th>LAT</th>\n",
       "      <th>LONG</th>\n",
       "      <th>CELL_X</th>\n",
       "      <th>CELL_Y</th>\n",
       "      <th>DATE</th>\n",
       "      <th>CAT</th>\n",
       "    </tr>\n",
       "  </thead>\n",
       "  <tbody>\n",
       "    <tr>\n",
       "      <th>144629</th>\n",
       "      <td>Mischief</td>\n",
       "      <td>2003</td>\n",
       "      <td>1</td>\n",
       "      <td>1</td>\n",
       "      <td>1</td>\n",
       "      <td>45</td>\n",
       "      <td>21XX W 2ND AVE</td>\n",
       "      <td>Kitsilano</td>\n",
       "      <td>488770.5190</td>\n",
       "      <td>5.457479e+06</td>\n",
       "      <td>49.269968</td>\n",
       "      <td>-123.154365</td>\n",
       "      <td>20</td>\n",
       "      <td>7</td>\n",
       "      <td>2003-01-01</td>\n",
       "      <td>Mischief</td>\n",
       "    </tr>\n",
       "    <tr>\n",
       "      <th>709741</th>\n",
       "      <td>Theft from Vehicle</td>\n",
       "      <td>2003</td>\n",
       "      <td>1</td>\n",
       "      <td>1</td>\n",
       "      <td>0</td>\n",
       "      <td>1</td>\n",
       "      <td>X NK_LOC ST</td>\n",
       "      <td>Strathcona</td>\n",
       "      <td>492757.4868</td>\n",
       "      <td>5.458792e+06</td>\n",
       "      <td>49.281843</td>\n",
       "      <td>-123.099582</td>\n",
       "      <td>22</td>\n",
       "      <td>15</td>\n",
       "      <td>2003-01-01</td>\n",
       "      <td>Theft</td>\n",
       "    </tr>\n",
       "    <tr>\n",
       "      <th>666010</th>\n",
       "      <td>Theft from Vehicle</td>\n",
       "      <td>2003</td>\n",
       "      <td>1</td>\n",
       "      <td>1</td>\n",
       "      <td>3</td>\n",
       "      <td>0</td>\n",
       "      <td>8XX HOMER ST</td>\n",
       "      <td>Central Business District</td>\n",
       "      <td>491473.3602</td>\n",
       "      <td>5.458499e+06</td>\n",
       "      <td>49.279183</td>\n",
       "      <td>-123.117232</td>\n",
       "      <td>22</td>\n",
       "      <td>13</td>\n",
       "      <td>2003-01-01</td>\n",
       "      <td>Theft</td>\n",
       "    </tr>\n",
       "    <tr>\n",
       "      <th>61501</th>\n",
       "      <td>Break and Enter Residential/Other</td>\n",
       "      <td>2003</td>\n",
       "      <td>1</td>\n",
       "      <td>1</td>\n",
       "      <td>0</td>\n",
       "      <td>20</td>\n",
       "      <td>19XX PARKER ST</td>\n",
       "      <td>Grandview-Woodland</td>\n",
       "      <td>495279.4615</td>\n",
       "      <td>5.458106e+06</td>\n",
       "      <td>49.275692</td>\n",
       "      <td>-123.064898</td>\n",
       "      <td>21</td>\n",
       "      <td>20</td>\n",
       "      <td>2003-01-01</td>\n",
       "      <td>Break and Enter</td>\n",
       "    </tr>\n",
       "    <tr>\n",
       "      <th>709740</th>\n",
       "      <td>Theft from Vehicle</td>\n",
       "      <td>2003</td>\n",
       "      <td>1</td>\n",
       "      <td>1</td>\n",
       "      <td>0</td>\n",
       "      <td>0</td>\n",
       "      <td>X NK_LOC ST</td>\n",
       "      <td>Strathcona</td>\n",
       "      <td>492757.4868</td>\n",
       "      <td>5.458792e+06</td>\n",
       "      <td>49.281843</td>\n",
       "      <td>-123.099582</td>\n",
       "      <td>22</td>\n",
       "      <td>15</td>\n",
       "      <td>2003-01-01</td>\n",
       "      <td>Theft</td>\n",
       "    </tr>\n",
       "    <tr>\n",
       "      <th>...</th>\n",
       "      <td>...</td>\n",
       "      <td>...</td>\n",
       "      <td>...</td>\n",
       "      <td>...</td>\n",
       "      <td>...</td>\n",
       "      <td>...</td>\n",
       "      <td>...</td>\n",
       "      <td>...</td>\n",
       "      <td>...</td>\n",
       "      <td>...</td>\n",
       "      <td>...</td>\n",
       "      <td>...</td>\n",
       "      <td>...</td>\n",
       "      <td>...</td>\n",
       "      <td>...</td>\n",
       "      <td>...</td>\n",
       "    </tr>\n",
       "    <tr>\n",
       "      <th>16774</th>\n",
       "      <td>Break and Enter Commercial</td>\n",
       "      <td>2022</td>\n",
       "      <td>2</td>\n",
       "      <td>11</td>\n",
       "      <td>0</td>\n",
       "      <td>19</td>\n",
       "      <td>20XX W BROADWAY AVE</td>\n",
       "      <td>Kitsilano</td>\n",
       "      <td>488897.4913</td>\n",
       "      <td>5.456790e+06</td>\n",
       "      <td>49.263775</td>\n",
       "      <td>-123.152600</td>\n",
       "      <td>18</td>\n",
       "      <td>8</td>\n",
       "      <td>2022-02-11</td>\n",
       "      <td>Break and Enter</td>\n",
       "    </tr>\n",
       "    <tr>\n",
       "      <th>307896</th>\n",
       "      <td>Other Theft</td>\n",
       "      <td>2022</td>\n",
       "      <td>2</td>\n",
       "      <td>11</td>\n",
       "      <td>4</td>\n",
       "      <td>0</td>\n",
       "      <td>13XX W 12TH AVE</td>\n",
       "      <td>Fairview</td>\n",
       "      <td>490190.8459</td>\n",
       "      <td>5.456445e+06</td>\n",
       "      <td>49.260692</td>\n",
       "      <td>-123.134815</td>\n",
       "      <td>17</td>\n",
       "      <td>10</td>\n",
       "      <td>2022-02-11</td>\n",
       "      <td>Theft</td>\n",
       "    </tr>\n",
       "    <tr>\n",
       "      <th>174690</th>\n",
       "      <td>Mischief</td>\n",
       "      <td>2022</td>\n",
       "      <td>2</td>\n",
       "      <td>11</td>\n",
       "      <td>3</td>\n",
       "      <td>17</td>\n",
       "      <td>4XX W CORDOVA ST</td>\n",
       "      <td>Central Business District</td>\n",
       "      <td>491996.9388</td>\n",
       "      <td>5.459041e+06</td>\n",
       "      <td>49.284070</td>\n",
       "      <td>-123.110045</td>\n",
       "      <td>23</td>\n",
       "      <td>14</td>\n",
       "      <td>2022-02-11</td>\n",
       "      <td>Mischief</td>\n",
       "    </tr>\n",
       "    <tr>\n",
       "      <th>50042</th>\n",
       "      <td>Break and Enter Residential/Other</td>\n",
       "      <td>2022</td>\n",
       "      <td>2</td>\n",
       "      <td>11</td>\n",
       "      <td>0</td>\n",
       "      <td>8</td>\n",
       "      <td>12XX SEYMOUR ST</td>\n",
       "      <td>Central Business District</td>\n",
       "      <td>490806.8322</td>\n",
       "      <td>5.458107e+06</td>\n",
       "      <td>49.275649</td>\n",
       "      <td>-123.126387</td>\n",
       "      <td>21</td>\n",
       "      <td>11</td>\n",
       "      <td>2022-02-11</td>\n",
       "      <td>Break and Enter</td>\n",
       "    </tr>\n",
       "    <tr>\n",
       "      <th>208854</th>\n",
       "      <td>Mischief</td>\n",
       "      <td>2022</td>\n",
       "      <td>2</td>\n",
       "      <td>11</td>\n",
       "      <td>4</td>\n",
       "      <td>16</td>\n",
       "      <td>HELMCKEN ST / MAINLAND ST</td>\n",
       "      <td>Central Business District</td>\n",
       "      <td>491233.3950</td>\n",
       "      <td>5.458098e+06</td>\n",
       "      <td>49.275574</td>\n",
       "      <td>-123.120523</td>\n",
       "      <td>21</td>\n",
       "      <td>12</td>\n",
       "      <td>2022-02-11</td>\n",
       "      <td>Mischief</td>\n",
       "    </tr>\n",
       "  </tbody>\n",
       "</table>\n",
       "<p>742807 rows × 16 columns</p>\n",
       "</div>"
      ],
      "text/plain": [
       "                                     TYPE  YEAR  MONTH  DAY  HOUR  MINUTE  \\\n",
       "144629                           Mischief  2003      1    1     1      45   \n",
       "709741                 Theft from Vehicle  2003      1    1     0       1   \n",
       "666010                 Theft from Vehicle  2003      1    1     3       0   \n",
       "61501   Break and Enter Residential/Other  2003      1    1     0      20   \n",
       "709740                 Theft from Vehicle  2003      1    1     0       0   \n",
       "...                                   ...   ...    ...  ...   ...     ...   \n",
       "16774          Break and Enter Commercial  2022      2   11     0      19   \n",
       "307896                        Other Theft  2022      2   11     4       0   \n",
       "174690                           Mischief  2022      2   11     3      17   \n",
       "50042   Break and Enter Residential/Other  2022      2   11     0       8   \n",
       "208854                           Mischief  2022      2   11     4      16   \n",
       "\n",
       "                    HUNDRED_BLOCK              NEIGHBOURHOOD        UTM_E  \\\n",
       "144629             21XX W 2ND AVE                  Kitsilano  488770.5190   \n",
       "709741                X NK_LOC ST                 Strathcona  492757.4868   \n",
       "666010               8XX HOMER ST  Central Business District  491473.3602   \n",
       "61501              19XX PARKER ST         Grandview-Woodland  495279.4615   \n",
       "709740                X NK_LOC ST                 Strathcona  492757.4868   \n",
       "...                           ...                        ...          ...   \n",
       "16774         20XX W BROADWAY AVE                  Kitsilano  488897.4913   \n",
       "307896            13XX W 12TH AVE                   Fairview  490190.8459   \n",
       "174690           4XX W CORDOVA ST  Central Business District  491996.9388   \n",
       "50042             12XX SEYMOUR ST  Central Business District  490806.8322   \n",
       "208854  HELMCKEN ST / MAINLAND ST  Central Business District  491233.3950   \n",
       "\n",
       "               UTM_N        LAT        LONG  CELL_X  CELL_Y        DATE  \\\n",
       "144629  5.457479e+06  49.269968 -123.154365      20       7  2003-01-01   \n",
       "709741  5.458792e+06  49.281843 -123.099582      22      15  2003-01-01   \n",
       "666010  5.458499e+06  49.279183 -123.117232      22      13  2003-01-01   \n",
       "61501   5.458106e+06  49.275692 -123.064898      21      20  2003-01-01   \n",
       "709740  5.458792e+06  49.281843 -123.099582      22      15  2003-01-01   \n",
       "...              ...        ...         ...     ...     ...         ...   \n",
       "16774   5.456790e+06  49.263775 -123.152600      18       8  2022-02-11   \n",
       "307896  5.456445e+06  49.260692 -123.134815      17      10  2022-02-11   \n",
       "174690  5.459041e+06  49.284070 -123.110045      23      14  2022-02-11   \n",
       "50042   5.458107e+06  49.275649 -123.126387      21      11  2022-02-11   \n",
       "208854  5.458098e+06  49.275574 -123.120523      21      12  2022-02-11   \n",
       "\n",
       "                    CAT  \n",
       "144629         Mischief  \n",
       "709741            Theft  \n",
       "666010            Theft  \n",
       "61501   Break and Enter  \n",
       "709740            Theft  \n",
       "...                 ...  \n",
       "16774   Break and Enter  \n",
       "307896            Theft  \n",
       "174690         Mischief  \n",
       "50042   Break and Enter  \n",
       "208854         Mischief  \n",
       "\n",
       "[742807 rows x 16 columns]"
      ]
     },
     "execution_count": 87,
     "metadata": {},
     "output_type": "execute_result"
    }
   ],
   "source": [
    "processed_crime_data"
   ]
  },
  {
   "cell_type": "code",
   "execution_count": 46,
   "id": "efcfcb61-b1b4-4494-928e-dadd95a16df2",
   "metadata": {},
   "outputs": [
    {
     "data": {
      "text/plain": [
       "array([0, 4, 3, 2])"
      ]
     },
     "execution_count": 46,
     "metadata": {},
     "output_type": "execute_result"
    }
   ],
   "source": [
    "inds"
   ]
  },
  {
   "cell_type": "code",
   "execution_count": null,
   "id": "0b9501a2-c8c2-4b4d-b050-ee8234efb31b",
   "metadata": {},
   "outputs": [],
   "source": []
  }
 ],
 "metadata": {
  "kernelspec": {
   "display_name": "Python 3.10.2 64-bit ('crimepred': conda)",
   "language": "python",
   "name": "python310264bitcrimepredconda2e2a4e88ddc84be9b842b1de10ae6e5e"
  },
  "language_info": {
   "codemirror_mode": {
    "name": "ipython",
    "version": 3
   },
   "file_extension": ".py",
   "mimetype": "text/x-python",
   "name": "python",
   "nbconvert_exporter": "python",
   "pygments_lexer": "ipython3",
   "version": "3.10.2"
  }
 },
 "nbformat": 4,
 "nbformat_minor": 5
}
