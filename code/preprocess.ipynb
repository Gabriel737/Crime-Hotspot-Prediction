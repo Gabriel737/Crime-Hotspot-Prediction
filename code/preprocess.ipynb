{
 "cells": [
  {
   "cell_type": "code",
   "execution_count": 1,
   "id": "2d2ddb2d",
   "metadata": {},
   "outputs": [],
   "source": [
    "import numpy as np\n",
    "import pandas as pd\n",
    "import config\n",
    "import utils\n",
    "import h5py\n",
    "import geopandas as gpd\n",
    "import osmnx\n",
    "\n",
    "pd.options.mode.chained_assignment = None"
   ]
  },
  {
   "cell_type": "code",
   "execution_count": 2,
   "id": "ab581313",
   "metadata": {},
   "outputs": [],
   "source": [
    "# Import data\n",
    "crime_data = pd.read_csv(f'{config.VAN_DATA_RAW}/crimedata_allneighbourhoods_allyears.csv')"
   ]
  },
  {
   "cell_type": "code",
   "execution_count": 3,
   "id": "16fc1b53",
   "metadata": {
    "tags": []
   },
   "outputs": [],
   "source": [
    "# Rename columns X and Y to UTM_X and UTM_Y\n",
    "crime_data.rename(columns={'X':'UTM_E','Y':'UTM_N'},inplace=True)"
   ]
  },
  {
   "cell_type": "markdown",
   "id": "3f2e30d5-b42f-40d3-8acc-cb7b9514c952",
   "metadata": {},
   "source": [
    "Some crime instances have location coordinates NaN, suggesting missing location data. These instances have been removed."
   ]
  },
  {
   "cell_type": "code",
   "execution_count": 4,
   "id": "9058bc0b-dc5d-46b6-8e46-5d34a2ed8af0",
   "metadata": {},
   "outputs": [],
   "source": [
    "# Remove for NaNs among relevant columns\n",
    "processed_crime_data = crime_data[~crime_data.isna().any(axis=1)]"
   ]
  },
  {
   "cell_type": "markdown",
   "id": "1bf4f3b7-c58c-497b-b3c6-304a9eb8f8ae",
   "metadata": {},
   "source": [
    "Some crime types (*Homicide* and *Offense Against a Person*) have instances with location coordinates mentioned as 0 due to privacy concerns. To address this, we have generated random location coordinates within the provided neighbourhood in order to retain these instances."
   ]
  },
  {
   "cell_type": "markdown",
   "id": "65f12101-e133-4cae-859b-1dd54823b034",
   "metadata": {},
   "source": [
    "We first mask these offset instances, convert the UTM coordinates to latitude and longitude for the rest, and generate random neighbourhood-bound coordinates for the offset"
   ]
  },
  {
   "cell_type": "code",
   "execution_count": 5,
   "id": "5d0e359d-f824-4fdc-aed8-45d5f10d56d1",
   "metadata": {},
   "outputs": [],
   "source": [
    "# Apply a mask for the offset values\n",
    "offset_mask = (processed_crime_data['UTM_E']==0) & (processed_crime_data['UTM_N']==0)\n",
    "\n",
    "# Create latitude and longitude columns with zeros\n",
    "processed_crime_data['LAT'], processed_crime_data['LONG']= 0, 0\n",
    "\n",
    "# Convert UTM coordinates to latitude and longitude for unmasked rows\n",
    "longs, lats = utils.utm2latlong(processed_crime_data.loc[~offset_mask,'UTM_E'],\n",
    "                                processed_crime_data.loc[~offset_mask, 'UTM_N'],\n",
    "                                config.UTM_ZONE_NO, \n",
    "                                config.UTM_ZONE_LTR)\n",
    "\n",
    "processed_crime_data.loc[~offset_mask,'LAT'] = lats\n",
    "processed_crime_data.loc[~offset_mask,'LONG'] = longs"
   ]
  },
  {
   "cell_type": "code",
   "execution_count": 6,
   "id": "c905ee74-d4c6-450c-b7dc-249d20bbd889",
   "metadata": {},
   "outputs": [],
   "source": [
    "# Read shapefile with neighbourhood boundaries\n",
    "geodata = gpd.read_file(f'{config.VAN_DATA_SHP}/local-area-boundary.shp')"
   ]
  },
  {
   "cell_type": "markdown",
   "id": "82dfe4db-00b8-46ef-a9cb-fcbe35bce250",
   "metadata": {},
   "source": [
    "The Vancouver Neighbourhood Boundaries shapefile does not include boundary for Stanley Park. This was added to the dataset by making use of *osmnx* library. \\\n",
    "Also, the crime instances dataset breaks down a single neighbourhood (Dunbar-Southlands) to two individual neighbourhoods (Dunbar-Southlands and Mausqueam). This was unified back to a single neighbourhood."
   ]
  },
  {
   "cell_type": "code",
   "execution_count": 7,
   "id": "56b7b939-29a3-4098-aea8-9136aefbc1b4",
   "metadata": {},
   "outputs": [
    {
     "name": "stderr",
     "output_type": "stream",
     "text": [
      "/Users/shreygrover/anaconda3/envs/crimepred/lib/python3.10/site-packages/osmnx/geocoder.py:110: FutureWarning: The frame.append method is deprecated and will be removed from pandas in a future version. Use pandas.concat instead.\n",
      "  gdf = gdf.append(_geocode_query_to_gdf(q, wr, by_osmid))\n"
     ]
    }
   ],
   "source": [
    "# Add Stanley Park shapefile to the geopandas data\n",
    "add_ngbh = 'Stanley Park'\n",
    "ngbh_gdf = osmnx.geocode_to_gdf(f'{add_ngbh}, Vancouver, Canada')\n",
    "add_shp = ngbh_gdf['geometry'].values[0]\n",
    "\n",
    "add_shp_short = 'SP'\n",
    "geodata.loc[len(geodata)]=[add_shp_short, add_ngbh, add_shp]\n",
    "\n",
    "# Breaking down unified Dunbar-Southlands into two neighbourhoods\n",
    "processed_crime_data.loc[processed_crime_data['NEIGHBOURHOOD']=='Musqueam','NEIGHBOURHOOD'] = 'Dunbar-Southlands'"
   ]
  },
  {
   "cell_type": "markdown",
   "id": "29e28776-9f8f-40c3-9069-697f54d9c6bb",
   "metadata": {},
   "source": [
    "A few inconsistancies in neighbourhood naming in the two datastes were fixed."
   ]
  },
  {
   "cell_type": "code",
   "execution_count": 8,
   "id": "21465bae-29d4-48b3-b590-6787df0aa8f4",
   "metadata": {},
   "outputs": [],
   "source": [
    "geodata.loc[geodata['name']=='Downtown','name'] = 'Central Business District' \n",
    "geodata.loc[geodata['name']=='Arbutus-Ridge','name'] = 'Arbutus Ridge'"
   ]
  },
  {
   "cell_type": "code",
   "execution_count": 9,
   "id": "7950ce28-d4a8-4731-a77b-64d457578070",
   "metadata": {},
   "outputs": [
    {
     "name": "stdout",
     "output_type": "stream",
     "text": [
      "West End\n",
      "Reattempting to retrieve random lat/long coordinate!\n",
      "Stanley Park\n",
      "Reattempting to retrieve random lat/long coordinate!\n",
      "Central Business District\n",
      "Reattempting to retrieve random lat/long coordinate!\n",
      "Central Business District\n",
      "Reattempting to retrieve random lat/long coordinate!\n",
      "Central Business District\n",
      "Reattempting to retrieve random lat/long coordinate!\n",
      "Central Business District\n",
      "Reattempting to retrieve random lat/long coordinate!\n",
      "Central Business District\n",
      "Reattempting to retrieve random lat/long coordinate!\n",
      "Central Business District\n",
      "Reattempting to retrieve random lat/long coordinate!\n"
     ]
    }
   ],
   "source": [
    "# Generate random location coordinates within neighbourhood boundaries for masked rows\n",
    "processed_crime_data.loc[offset_mask,'LAT'], processed_crime_data.loc[offset_mask,'LONG'] \\\n",
    "= zip(*processed_crime_data.loc[offset_mask,'NEIGHBOURHOOD'].apply(lambda ngbh: utils.generateRandomCoords(ngbh, geodata)))"
   ]
  },
  {
   "cell_type": "code",
   "execution_count": 10,
   "id": "90573db6-2792-473c-bc44-4d0332c3a92c",
   "metadata": {},
   "outputs": [],
   "source": [
    "## Generate latitude and longitude bins\n",
    "\n",
    "# Number of bins = bounding box length/ length of each cell\n",
    "n_bins = int(config.BB_DIST/config.BB_CELL_LEN)\n",
    "    \n",
    "# Get minimum and maxiumum values for longitudes and latitudes of bounding box vertices\n",
    "min_lat = min(config.BB_VERTICES.values(), key = lambda x: x['lat'])['lat']\n",
    "max_lat = max(config.BB_VERTICES.values(), key = lambda x: x['lat'])['lat']\n",
    "\n",
    "min_long = min(config.BB_VERTICES.values(), key = lambda x: x['long'])['long']\n",
    "max_long = max(config.BB_VERTICES.values(), key = lambda x: x['long'])['long']\n",
    "\n",
    "# Divide bounding box into bins\n",
    "lat_bins = utils.getBins(min_=min_lat, max_=max_lat, n_bins=n_bins)\n",
    "long_bins = utils.getBins(min_=min_long, max_=max_long, n_bins=n_bins)"
   ]
  },
  {
   "cell_type": "code",
   "execution_count": 11,
   "id": "fd1043a0",
   "metadata": {},
   "outputs": [],
   "source": [
    "## Generate cell coordinates\n",
    "processed_crime_data['CELL_X'],processed_crime_data['CELL_Y'] = utils.getCellLocs(lats=processed_crime_data['LAT'].values,\n",
    "                                                                                  longs=processed_crime_data['LONG'].values,\n",
    "                                                                                  lat_bins=lat_bins,\n",
    "                                                                                  long_bins=long_bins,\n",
    "                                                                                  correction=True)\n",
    "\n",
    "# Filter out rows with cell coordinate values as -1 (occur in the case on correction == False)\n",
    "processed_crime_data = processed_crime_data[(processed_crime_data['CELL_X'] > -1) & \n",
    "                                            (processed_crime_data['CELL_Y'] > -1)]"
   ]
  },
  {
   "cell_type": "code",
   "execution_count": 12,
   "id": "a428dab6-375c-483f-8609-582af9df3074",
   "metadata": {},
   "outputs": [],
   "source": [
    "# Fetch crime date\n",
    "processed_crime_data['DATE'] = processed_crime_data.apply(lambda row: utils.getDate(day=row['DAY'],\n",
    "                                                                                    month=row['MONTH'],\n",
    "                                                                                    year=row['YEAR']),axis=1)\n",
    "\n",
    "# Order by crime date\n",
    "processed_crime_data.sort_values(by='DATE', inplace=True)"
   ]
  },
  {
   "cell_type": "code",
   "execution_count": 13,
   "id": "55de183a-ca89-422a-b97b-df2aad116906",
   "metadata": {},
   "outputs": [],
   "source": [
    "# Fetch crime broad category\n",
    "processed_crime_data['CAT'] = processed_crime_data.apply(lambda row: config.TYPE2CAT[row['TYPE']],axis=1)"
   ]
  },
  {
   "cell_type": "code",
   "execution_count": 14,
   "id": "9a254102-109b-4767-9cf8-8629a4aa8a92",
   "metadata": {},
   "outputs": [],
   "source": [
    "# Save processed crime data as pickle\n",
    "processed_crime_data.to_pickle(f'{config.VAN_DATA_PRCD}/processed_crime_data.pkl.gzip', compression='gzip')"
   ]
  },
  {
   "cell_type": "code",
   "execution_count": 15,
   "id": "0e14a382-dc00-48f9-bb4b-809f743ece20",
   "metadata": {},
   "outputs": [],
   "source": [
    "# Create a pivot table with all cell coordinates as columns and all date and crime category as indices\n",
    "crime_pivot = utils.getPivot(data=processed_crime_data, values='TYPE', index=['DATE','CAT'], \n",
    "                             columns=['CELL_X','CELL_Y'], aggfunc='count', n_bins = n_bins, allcombs=True)"
   ]
  },
  {
   "cell_type": "code",
   "execution_count": 16,
   "id": "36ef5883",
   "metadata": {},
   "outputs": [
    {
     "data": {
      "text/html": [
       "<div>\n",
       "<style scoped>\n",
       "    .dataframe tbody tr th:only-of-type {\n",
       "        vertical-align: middle;\n",
       "    }\n",
       "\n",
       "    .dataframe tbody tr th {\n",
       "        vertical-align: top;\n",
       "    }\n",
       "\n",
       "    .dataframe thead th {\n",
       "        text-align: right;\n",
       "    }\n",
       "</style>\n",
       "<table border=\"1\" class=\"dataframe\">\n",
       "  <thead>\n",
       "    <tr style=\"text-align: right;\">\n",
       "      <th></th>\n",
       "      <th></th>\n",
       "      <th>(1, 1)</th>\n",
       "      <th>(1, 2)</th>\n",
       "      <th>(1, 3)</th>\n",
       "      <th>(1, 4)</th>\n",
       "      <th>(1, 5)</th>\n",
       "      <th>(1, 6)</th>\n",
       "      <th>(1, 7)</th>\n",
       "      <th>(1, 8)</th>\n",
       "      <th>(1, 9)</th>\n",
       "      <th>(1, 10)</th>\n",
       "      <th>...</th>\n",
       "      <th>(26, 17)</th>\n",
       "      <th>(26, 18)</th>\n",
       "      <th>(26, 19)</th>\n",
       "      <th>(26, 20)</th>\n",
       "      <th>(26, 21)</th>\n",
       "      <th>(26, 22)</th>\n",
       "      <th>(26, 23)</th>\n",
       "      <th>(26, 24)</th>\n",
       "      <th>(26, 25)</th>\n",
       "      <th>(26, 26)</th>\n",
       "    </tr>\n",
       "    <tr>\n",
       "      <th>DATE</th>\n",
       "      <th>CAT</th>\n",
       "      <th></th>\n",
       "      <th></th>\n",
       "      <th></th>\n",
       "      <th></th>\n",
       "      <th></th>\n",
       "      <th></th>\n",
       "      <th></th>\n",
       "      <th></th>\n",
       "      <th></th>\n",
       "      <th></th>\n",
       "      <th></th>\n",
       "      <th></th>\n",
       "      <th></th>\n",
       "      <th></th>\n",
       "      <th></th>\n",
       "      <th></th>\n",
       "      <th></th>\n",
       "      <th></th>\n",
       "      <th></th>\n",
       "      <th></th>\n",
       "      <th></th>\n",
       "    </tr>\n",
       "  </thead>\n",
       "  <tbody>\n",
       "    <tr>\n",
       "      <th rowspan=\"5\" valign=\"top\">2003-01-01</th>\n",
       "      <th>Break and Enter</th>\n",
       "      <td>0.0</td>\n",
       "      <td>0.0</td>\n",
       "      <td>0.0</td>\n",
       "      <td>0.0</td>\n",
       "      <td>0.0</td>\n",
       "      <td>0.0</td>\n",
       "      <td>0.0</td>\n",
       "      <td>0.0</td>\n",
       "      <td>0.0</td>\n",
       "      <td>0.0</td>\n",
       "      <td>...</td>\n",
       "      <td>0.0</td>\n",
       "      <td>0.0</td>\n",
       "      <td>0.0</td>\n",
       "      <td>0.0</td>\n",
       "      <td>0.0</td>\n",
       "      <td>0.0</td>\n",
       "      <td>0.0</td>\n",
       "      <td>0.0</td>\n",
       "      <td>0.0</td>\n",
       "      <td>0.0</td>\n",
       "    </tr>\n",
       "    <tr>\n",
       "      <th>Homicide</th>\n",
       "      <td>0.0</td>\n",
       "      <td>0.0</td>\n",
       "      <td>0.0</td>\n",
       "      <td>0.0</td>\n",
       "      <td>0.0</td>\n",
       "      <td>0.0</td>\n",
       "      <td>0.0</td>\n",
       "      <td>0.0</td>\n",
       "      <td>0.0</td>\n",
       "      <td>0.0</td>\n",
       "      <td>...</td>\n",
       "      <td>0.0</td>\n",
       "      <td>0.0</td>\n",
       "      <td>0.0</td>\n",
       "      <td>0.0</td>\n",
       "      <td>0.0</td>\n",
       "      <td>0.0</td>\n",
       "      <td>0.0</td>\n",
       "      <td>0.0</td>\n",
       "      <td>0.0</td>\n",
       "      <td>0.0</td>\n",
       "    </tr>\n",
       "    <tr>\n",
       "      <th>Mischief</th>\n",
       "      <td>0.0</td>\n",
       "      <td>0.0</td>\n",
       "      <td>0.0</td>\n",
       "      <td>0.0</td>\n",
       "      <td>0.0</td>\n",
       "      <td>0.0</td>\n",
       "      <td>0.0</td>\n",
       "      <td>0.0</td>\n",
       "      <td>0.0</td>\n",
       "      <td>0.0</td>\n",
       "      <td>...</td>\n",
       "      <td>0.0</td>\n",
       "      <td>0.0</td>\n",
       "      <td>0.0</td>\n",
       "      <td>0.0</td>\n",
       "      <td>0.0</td>\n",
       "      <td>0.0</td>\n",
       "      <td>0.0</td>\n",
       "      <td>0.0</td>\n",
       "      <td>0.0</td>\n",
       "      <td>0.0</td>\n",
       "    </tr>\n",
       "    <tr>\n",
       "      <th>Assualt</th>\n",
       "      <td>0.0</td>\n",
       "      <td>0.0</td>\n",
       "      <td>0.0</td>\n",
       "      <td>0.0</td>\n",
       "      <td>0.0</td>\n",
       "      <td>0.0</td>\n",
       "      <td>0.0</td>\n",
       "      <td>0.0</td>\n",
       "      <td>0.0</td>\n",
       "      <td>0.0</td>\n",
       "      <td>...</td>\n",
       "      <td>0.0</td>\n",
       "      <td>0.0</td>\n",
       "      <td>0.0</td>\n",
       "      <td>0.0</td>\n",
       "      <td>0.0</td>\n",
       "      <td>0.0</td>\n",
       "      <td>0.0</td>\n",
       "      <td>0.0</td>\n",
       "      <td>0.0</td>\n",
       "      <td>0.0</td>\n",
       "    </tr>\n",
       "    <tr>\n",
       "      <th>Theft</th>\n",
       "      <td>0.0</td>\n",
       "      <td>0.0</td>\n",
       "      <td>0.0</td>\n",
       "      <td>0.0</td>\n",
       "      <td>0.0</td>\n",
       "      <td>0.0</td>\n",
       "      <td>0.0</td>\n",
       "      <td>0.0</td>\n",
       "      <td>0.0</td>\n",
       "      <td>0.0</td>\n",
       "      <td>...</td>\n",
       "      <td>0.0</td>\n",
       "      <td>0.0</td>\n",
       "      <td>0.0</td>\n",
       "      <td>0.0</td>\n",
       "      <td>0.0</td>\n",
       "      <td>0.0</td>\n",
       "      <td>0.0</td>\n",
       "      <td>0.0</td>\n",
       "      <td>0.0</td>\n",
       "      <td>0.0</td>\n",
       "    </tr>\n",
       "    <tr>\n",
       "      <th>...</th>\n",
       "      <th>...</th>\n",
       "      <td>...</td>\n",
       "      <td>...</td>\n",
       "      <td>...</td>\n",
       "      <td>...</td>\n",
       "      <td>...</td>\n",
       "      <td>...</td>\n",
       "      <td>...</td>\n",
       "      <td>...</td>\n",
       "      <td>...</td>\n",
       "      <td>...</td>\n",
       "      <td>...</td>\n",
       "      <td>...</td>\n",
       "      <td>...</td>\n",
       "      <td>...</td>\n",
       "      <td>...</td>\n",
       "      <td>...</td>\n",
       "      <td>...</td>\n",
       "      <td>...</td>\n",
       "      <td>...</td>\n",
       "      <td>...</td>\n",
       "      <td>...</td>\n",
       "    </tr>\n",
       "    <tr>\n",
       "      <th rowspan=\"5\" valign=\"top\">2022-02-11</th>\n",
       "      <th>Homicide</th>\n",
       "      <td>0.0</td>\n",
       "      <td>0.0</td>\n",
       "      <td>0.0</td>\n",
       "      <td>0.0</td>\n",
       "      <td>0.0</td>\n",
       "      <td>0.0</td>\n",
       "      <td>0.0</td>\n",
       "      <td>0.0</td>\n",
       "      <td>0.0</td>\n",
       "      <td>0.0</td>\n",
       "      <td>...</td>\n",
       "      <td>0.0</td>\n",
       "      <td>0.0</td>\n",
       "      <td>0.0</td>\n",
       "      <td>0.0</td>\n",
       "      <td>0.0</td>\n",
       "      <td>0.0</td>\n",
       "      <td>0.0</td>\n",
       "      <td>0.0</td>\n",
       "      <td>0.0</td>\n",
       "      <td>0.0</td>\n",
       "    </tr>\n",
       "    <tr>\n",
       "      <th>Mischief</th>\n",
       "      <td>0.0</td>\n",
       "      <td>0.0</td>\n",
       "      <td>0.0</td>\n",
       "      <td>0.0</td>\n",
       "      <td>0.0</td>\n",
       "      <td>0.0</td>\n",
       "      <td>0.0</td>\n",
       "      <td>0.0</td>\n",
       "      <td>0.0</td>\n",
       "      <td>0.0</td>\n",
       "      <td>...</td>\n",
       "      <td>0.0</td>\n",
       "      <td>0.0</td>\n",
       "      <td>0.0</td>\n",
       "      <td>0.0</td>\n",
       "      <td>0.0</td>\n",
       "      <td>0.0</td>\n",
       "      <td>0.0</td>\n",
       "      <td>0.0</td>\n",
       "      <td>0.0</td>\n",
       "      <td>0.0</td>\n",
       "    </tr>\n",
       "    <tr>\n",
       "      <th>Assualt</th>\n",
       "      <td>0.0</td>\n",
       "      <td>0.0</td>\n",
       "      <td>0.0</td>\n",
       "      <td>0.0</td>\n",
       "      <td>0.0</td>\n",
       "      <td>0.0</td>\n",
       "      <td>0.0</td>\n",
       "      <td>0.0</td>\n",
       "      <td>0.0</td>\n",
       "      <td>0.0</td>\n",
       "      <td>...</td>\n",
       "      <td>0.0</td>\n",
       "      <td>0.0</td>\n",
       "      <td>0.0</td>\n",
       "      <td>0.0</td>\n",
       "      <td>0.0</td>\n",
       "      <td>0.0</td>\n",
       "      <td>0.0</td>\n",
       "      <td>0.0</td>\n",
       "      <td>0.0</td>\n",
       "      <td>0.0</td>\n",
       "    </tr>\n",
       "    <tr>\n",
       "      <th>Theft</th>\n",
       "      <td>0.0</td>\n",
       "      <td>0.0</td>\n",
       "      <td>0.0</td>\n",
       "      <td>0.0</td>\n",
       "      <td>0.0</td>\n",
       "      <td>0.0</td>\n",
       "      <td>0.0</td>\n",
       "      <td>0.0</td>\n",
       "      <td>0.0</td>\n",
       "      <td>0.0</td>\n",
       "      <td>...</td>\n",
       "      <td>0.0</td>\n",
       "      <td>0.0</td>\n",
       "      <td>0.0</td>\n",
       "      <td>0.0</td>\n",
       "      <td>0.0</td>\n",
       "      <td>0.0</td>\n",
       "      <td>0.0</td>\n",
       "      <td>0.0</td>\n",
       "      <td>0.0</td>\n",
       "      <td>0.0</td>\n",
       "    </tr>\n",
       "    <tr>\n",
       "      <th>Vehicle Collision</th>\n",
       "      <td>0.0</td>\n",
       "      <td>0.0</td>\n",
       "      <td>0.0</td>\n",
       "      <td>0.0</td>\n",
       "      <td>0.0</td>\n",
       "      <td>0.0</td>\n",
       "      <td>0.0</td>\n",
       "      <td>0.0</td>\n",
       "      <td>0.0</td>\n",
       "      <td>0.0</td>\n",
       "      <td>...</td>\n",
       "      <td>0.0</td>\n",
       "      <td>0.0</td>\n",
       "      <td>0.0</td>\n",
       "      <td>0.0</td>\n",
       "      <td>0.0</td>\n",
       "      <td>0.0</td>\n",
       "      <td>0.0</td>\n",
       "      <td>0.0</td>\n",
       "      <td>0.0</td>\n",
       "      <td>0.0</td>\n",
       "    </tr>\n",
       "  </tbody>\n",
       "</table>\n",
       "<p>41892 rows × 676 columns</p>\n",
       "</div>"
      ],
      "text/plain": [
       "                              (1, 1)  (1, 2)  (1, 3)  (1, 4)  (1, 5)  (1, 6)  \\\n",
       "DATE       CAT                                                                 \n",
       "2003-01-01 Break and Enter       0.0     0.0     0.0     0.0     0.0     0.0   \n",
       "           Homicide              0.0     0.0     0.0     0.0     0.0     0.0   \n",
       "           Mischief              0.0     0.0     0.0     0.0     0.0     0.0   \n",
       "           Assualt               0.0     0.0     0.0     0.0     0.0     0.0   \n",
       "           Theft                 0.0     0.0     0.0     0.0     0.0     0.0   \n",
       "...                              ...     ...     ...     ...     ...     ...   \n",
       "2022-02-11 Homicide              0.0     0.0     0.0     0.0     0.0     0.0   \n",
       "           Mischief              0.0     0.0     0.0     0.0     0.0     0.0   \n",
       "           Assualt               0.0     0.0     0.0     0.0     0.0     0.0   \n",
       "           Theft                 0.0     0.0     0.0     0.0     0.0     0.0   \n",
       "           Vehicle Collision     0.0     0.0     0.0     0.0     0.0     0.0   \n",
       "\n",
       "                              (1, 7)  (1, 8)  (1, 9)  (1, 10)  ...  (26, 17)  \\\n",
       "DATE       CAT                                                 ...             \n",
       "2003-01-01 Break and Enter       0.0     0.0     0.0      0.0  ...       0.0   \n",
       "           Homicide              0.0     0.0     0.0      0.0  ...       0.0   \n",
       "           Mischief              0.0     0.0     0.0      0.0  ...       0.0   \n",
       "           Assualt               0.0     0.0     0.0      0.0  ...       0.0   \n",
       "           Theft                 0.0     0.0     0.0      0.0  ...       0.0   \n",
       "...                              ...     ...     ...      ...  ...       ...   \n",
       "2022-02-11 Homicide              0.0     0.0     0.0      0.0  ...       0.0   \n",
       "           Mischief              0.0     0.0     0.0      0.0  ...       0.0   \n",
       "           Assualt               0.0     0.0     0.0      0.0  ...       0.0   \n",
       "           Theft                 0.0     0.0     0.0      0.0  ...       0.0   \n",
       "           Vehicle Collision     0.0     0.0     0.0      0.0  ...       0.0   \n",
       "\n",
       "                              (26, 18)  (26, 19)  (26, 20)  (26, 21)  \\\n",
       "DATE       CAT                                                         \n",
       "2003-01-01 Break and Enter         0.0       0.0       0.0       0.0   \n",
       "           Homicide                0.0       0.0       0.0       0.0   \n",
       "           Mischief                0.0       0.0       0.0       0.0   \n",
       "           Assualt                 0.0       0.0       0.0       0.0   \n",
       "           Theft                   0.0       0.0       0.0       0.0   \n",
       "...                                ...       ...       ...       ...   \n",
       "2022-02-11 Homicide                0.0       0.0       0.0       0.0   \n",
       "           Mischief                0.0       0.0       0.0       0.0   \n",
       "           Assualt                 0.0       0.0       0.0       0.0   \n",
       "           Theft                   0.0       0.0       0.0       0.0   \n",
       "           Vehicle Collision       0.0       0.0       0.0       0.0   \n",
       "\n",
       "                              (26, 22)  (26, 23)  (26, 24)  (26, 25)  (26, 26)  \n",
       "DATE       CAT                                                                  \n",
       "2003-01-01 Break and Enter         0.0       0.0       0.0       0.0       0.0  \n",
       "           Homicide                0.0       0.0       0.0       0.0       0.0  \n",
       "           Mischief                0.0       0.0       0.0       0.0       0.0  \n",
       "           Assualt                 0.0       0.0       0.0       0.0       0.0  \n",
       "           Theft                   0.0       0.0       0.0       0.0       0.0  \n",
       "...                                ...       ...       ...       ...       ...  \n",
       "2022-02-11 Homicide                0.0       0.0       0.0       0.0       0.0  \n",
       "           Mischief                0.0       0.0       0.0       0.0       0.0  \n",
       "           Assualt                 0.0       0.0       0.0       0.0       0.0  \n",
       "           Theft                   0.0       0.0       0.0       0.0       0.0  \n",
       "           Vehicle Collision       0.0       0.0       0.0       0.0       0.0  \n",
       "\n",
       "[41892 rows x 676 columns]"
      ]
     },
     "execution_count": 16,
     "metadata": {},
     "output_type": "execute_result"
    }
   ],
   "source": [
    "crime_pivot"
   ]
  },
  {
   "cell_type": "code",
   "execution_count": 17,
   "id": "0b9501a2-c8c2-4b4d-b050-ee8234efb31b",
   "metadata": {},
   "outputs": [],
   "source": [
    "# Create an array of the pivot table values\n",
    "crime_arr = crime_pivot.values"
   ]
  },
  {
   "cell_type": "code",
   "execution_count": 18,
   "id": "bd4ea2b8-5332-4d34-b514-0339b6e024ab",
   "metadata": {},
   "outputs": [],
   "source": [
    "# Reshape the array to have 26x26 grids with crime categories number of channels.\n",
    "crime_arr_reshaped = crime_arr.reshape((-1,len(config.CRIME_CATS),n_bins,n_bins))"
   ]
  },
  {
   "cell_type": "code",
   "execution_count": 19,
   "id": "d5de4124",
   "metadata": {},
   "outputs": [
    {
     "data": {
      "text/plain": [
       "(6982, 6, 26, 26)"
      ]
     },
     "execution_count": 19,
     "metadata": {},
     "output_type": "execute_result"
    }
   ],
   "source": [
    "crime_arr_reshaped.shape"
   ]
  },
  {
   "cell_type": "code",
   "execution_count": 20,
   "id": "b0aeecba-4b07-4e21-8081-e255426d4760",
   "metadata": {},
   "outputs": [],
   "source": [
    "# Group instances to pairs of sequence length and collect corresponding target sample\n",
    "features, targets = utils.getFeaturesTargets(data=crime_arr_reshaped, seq_len=config.SEQ_LEN)"
   ]
  },
  {
   "cell_type": "code",
   "execution_count": 21,
   "id": "fb30b26a-07c6-46a9-80b1-7f61a458c576",
   "metadata": {},
   "outputs": [],
   "source": [
    "# Convert features and targets to arrays\n",
    "features = np.array(features)\n",
    "targets = np.array(targets)"
   ]
  },
  {
   "cell_type": "code",
   "execution_count": 22,
   "id": "0f5ed34d",
   "metadata": {},
   "outputs": [],
   "source": [
    "# Divide features and targets into train and test. 15 years of data is used for training (2003-2017) \n",
    "#, 1 year of data for validation (2018-2019) and ~ 1 year of data for testing (2020-2021+)\n",
    "features_train = features[:5479,:]\n",
    "features_val = features[5479:6209,:]\n",
    "features_test = features[6209:,:]\n",
    "targets_train = targets[:5479,:]\n",
    "targets_val = targets[5479:6209,:]\n",
    "targets_test = targets[6209:,:]"
   ]
  },
  {
   "cell_type": "code",
   "execution_count": 23,
   "id": "c3647bd4-6132-45c9-904e-58487d735438",
   "metadata": {},
   "outputs": [],
   "source": [
    "# Save the features and targets as pickle files\n",
    "with h5py.File(f'{config.VAN_DATA_PRCD}/features.h5', 'w') as hf:\n",
    "    hf.create_dataset(\"train\",  data=features_train)\n",
    "    hf.create_dataset(\"val\", data=features_val)\n",
    "    hf.create_dataset(\"test\", data=features_test)\n",
    "    \n",
    "with h5py.File(f'{config.VAN_DATA_PRCD}/targets.h5', 'w') as hf:\n",
    "    hf.create_dataset(\"train\",  data=targets_train)\n",
    "    hf.create_dataset(\"val\",  data=targets_val)\n",
    "    hf.create_dataset(\"test\",  data=targets_test)\n",
    "   "
   ]
  },
  {
   "cell_type": "code",
   "execution_count": 11,
   "id": "bb3e1bf2",
   "metadata": {},
   "outputs": [],
   "source": [
    "# Import secondary data related to housing price index, consumer price index and weather\n",
    "sec_data = pd.read_csv('../data/raw/cpi_hpi_weather_data.csv')\n",
    "sec_data = sec_data.rename(columns={'housing price indexes': 'housing_price_index'})"
   ]
  },
  {
   "cell_type": "code",
   "execution_count": 12,
   "id": "3e2f0ca8",
   "metadata": {},
   "outputs": [],
   "source": [
    "# List of columns to be filtered\n",
    "imp_cols = ['housing_price_index','consumer_price_index','min_temperature','max_temperature','max_rain','max_snow']"
   ]
  },
  {
   "cell_type": "code",
   "execution_count": 13,
   "id": "3a36fd40",
   "metadata": {},
   "outputs": [],
   "source": [
    "#  Filter required columns\n",
    "sec_data_fil = sec_data[imp_cols]"
   ]
  },
  {
   "cell_type": "code",
   "execution_count": 14,
   "id": "5a0452a8",
   "metadata": {},
   "outputs": [],
   "source": [
    "# Find a rolling mean of sequence length\n",
    "sec_data_mean=list()\n",
    "for i in range(0,len(sec_data_fil)-(config.SEQ_LEN+1)):\n",
    "    sec_data_mean.append(sec_data_fil[i:i+config.SEQ_LEN].mean())\n",
    "\n",
    "sec_data_mean_arr = np.array(sec_data_mean)"
   ]
  },
  {
   "cell_type": "code",
   "execution_count": 15,
   "id": "254702e4",
   "metadata": {},
   "outputs": [],
   "source": [
    "# Split the secondary data into train, validation and test\n",
    "sec_data_mean_arr_train = sec_data_mean_arr[:5479,:]\n",
    "sec_data_mean_arr_val = sec_data_mean_arr[5479:6209,:]\n",
    "sec_data_mean_arr_test = sec_data_mean_arr[6209:,:]"
   ]
  },
  {
   "cell_type": "code",
   "execution_count": 16,
   "id": "5a6bbb8d",
   "metadata": {},
   "outputs": [],
   "source": [
    "# Save data\n",
    "with h5py.File(f'{config.VAN_DATA_PRCD}/sec_features.h5', 'w') as hf:\n",
    "    hf.create_dataset(\"train\",  data=sec_data_mean_arr_train)\n",
    "    hf.create_dataset(\"val\", data=sec_data_mean_arr_val)\n",
    "    hf.create_dataset(\"test\", data=sec_data_mean_arr_test)\n"
   ]
  },
  {
   "cell_type": "code",
   "execution_count": null,
   "id": "8711b352",
   "metadata": {},
   "outputs": [],
   "source": []
  }
 ],
 "metadata": {
  "interpreter": {
   "hash": "3fedea09ed2a74dd6580dca3a81d9c0804a47003b21e4bd22ed627fb93808594"
  },
  "kernelspec": {
   "display_name": "py-gt",
   "language": "python",
   "name": "py-gt"
  },
  "language_info": {
   "codemirror_mode": {
    "name": "ipython",
    "version": 3
   },
   "file_extension": ".py",
   "mimetype": "text/x-python",
   "name": "python",
   "nbconvert_exporter": "python",
   "pygments_lexer": "ipython3",
   "version": "3.9.10"
  }
 },
 "nbformat": 4,
 "nbformat_minor": 5
}
