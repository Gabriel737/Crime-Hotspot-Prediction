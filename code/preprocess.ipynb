{
 "cells": [
  {
   "cell_type": "code",
   "execution_count": 39,
   "id": "2d2ddb2d",
   "metadata": {},
   "outputs": [],
   "source": [
    "import numpy as np\n",
    "import pandas as pd\n",
    "import config\n",
    "from datetime import datetime\n",
    "\n",
    "import utm\n",
    "import h5py"
   ]
  },
  {
   "cell_type": "code",
   "execution_count": 2,
   "id": "ab581313",
   "metadata": {},
   "outputs": [],
   "source": [
    "# Import data\n",
    "crime_data = pd.read_csv('../data/crimedata_allneighbourhoods_allyears.csv')"
   ]
  },
  {
   "cell_type": "code",
   "execution_count": 3,
   "id": "16fc1b53",
   "metadata": {
    "tags": []
   },
   "outputs": [],
   "source": [
    "# Rename columns X and Y to UTM_X and UTM_Y\n",
    "crime_data.rename(columns={'X':'UTM_E','Y':'UTM_N'},inplace=True)"
   ]
  },
  {
   "cell_type": "markdown",
   "id": "3f2e30d5-b42f-40d3-8acc-cb7b9514c952",
   "metadata": {},
   "source": [
    "Some crime instances have location coordinates NaN, suggesting missing location data. These instances have been removed."
   ]
  },
  {
   "cell_type": "code",
   "execution_count": 4,
   "id": "9058bc0b-dc5d-46b6-8e46-5d34a2ed8af0",
   "metadata": {},
   "outputs": [],
   "source": [
    "# Remove for NaNs among relevant columns\n",
    "processed_crime_data = crime_data[~crime_data.isna().any(axis=1)]"
   ]
  },
  {
   "cell_type": "markdown",
   "id": "1bf4f3b7-c58c-497b-b3c6-304a9eb8f8ae",
   "metadata": {},
   "source": [
    "Some crime types (*Homicide* and *Offense Against a Person*) have instances with location coordinates mentioned as 0 due to privacy concerns. To address this, we have generated random location coordinates within the provided neighbourhood in order to retain these instances."
   ]
  },
  {
   "cell_type": "code",
   "execution_count": 5,
   "id": "1c9162f5-9525-4424-9cc9-5ea56cf0894f",
   "metadata": {},
   "outputs": [],
   "source": [
    "# For now removing these crime types\n",
    "processed_crime_data = processed_crime_data[~processed_crime_data['TYPE'].isin(['Homicide','Offence Against a Person'])]\n"
   ]
  },
  {
   "cell_type": "code",
   "execution_count": 6,
   "id": "c08b226a",
   "metadata": {},
   "outputs": [],
   "source": [
    "# Convert UTM coordinates to Latitude and Longitude\n",
    "def utm2latlong(utm_x, utm_y, utm_zone_no, utm_zone_ltr):\n",
    "    lat, long = utm.to_latlon(utm_x, utm_y, utm_zone_no, utm_zone_ltr)\n",
    "    return lat,long"
   ]
  },
  {
   "cell_type": "code",
   "execution_count": 7,
   "id": "5c3a957c",
   "metadata": {
    "tags": []
   },
   "outputs": [],
   "source": [
    "# Convert UTM coordinates to latitude and longitude\n",
    "processed_crime_data['LAT'], processed_crime_data['LONG'] = utm2latlong(processed_crime_data['UTM_E'],\n",
    "                                                                        processed_crime_data['UTM_N'],\n",
    "                                                                        config.UTM_ZONE_NO, \n",
    "                                                                        config.UTM_ZONE_LTR)"
   ]
  },
  {
   "cell_type": "code",
   "execution_count": 8,
   "id": "2cac27d5-d094-4529-911c-157d18dcc9bb",
   "metadata": {},
   "outputs": [],
   "source": [
    "# Function to create bins\n",
    "def getBins(min_,max_,n_bins):\n",
    "    bins = np.linspace(start=min_, stop=max_, num=n_bins+1)\n",
    "    return bins"
   ]
  },
  {
   "cell_type": "code",
   "execution_count": 9,
   "id": "90573db6-2792-473c-bc44-4d0332c3a92c",
   "metadata": {},
   "outputs": [],
   "source": [
    "## Generate latitude and longitude bins\n",
    "\n",
    "# Number of bins = bounding box length/ length of each cell\n",
    "n_bins = int(config.BB_DIST/config.BB_CELL_LEN)\n",
    "    \n",
    "# Get minimum and maxiumum values for longitudes and latitudes of bounding box vertices\n",
    "min_lat = min(config.BB_VERTICES.values(), key = lambda x: x['lat'])['lat']\n",
    "max_lat = max(config.BB_VERTICES.values(), key = lambda x: x['lat'])['lat']\n",
    "\n",
    "min_long = min(config.BB_VERTICES.values(), key = lambda x: x['long'])['long']\n",
    "max_long = max(config.BB_VERTICES.values(), key = lambda x: x['long'])['long']\n",
    "\n",
    "# Divide bounding box into bins\n",
    "lat_bins = getBins(min_=min_lat, max_=max_lat, n_bins=n_bins)\n",
    "long_bins = getBins(min_=min_long, max_=max_long, n_bins=n_bins)"
   ]
  },
  {
   "cell_type": "code",
   "execution_count": 10,
   "id": "c5641be4-afa4-44d4-887e-f55ea1b34105",
   "metadata": {},
   "outputs": [],
   "source": [
    "# Function to generate cell coordinates\n",
    "def getCellLocs(lats,longs,lat_bins,long_bins, correction=False):\n",
    "    \n",
    "    # Assign x coordinate of cell. X coordinates can range from 1 to lat_bins and are upper bound.\n",
    "    # Location coordinates laying outside the bounding box are labelled as either 0 or len(lat_bins)\n",
    "    cell_x = np.digitize(lats,lat_bins,right=True)\n",
    "    \n",
    "    # Assign x coordinate of cell. Y coordinates can range from 1 to long_bins and are upper bound.\n",
    "    # Location coordinates laying outside the bounding box are labelled as either 0 or len(long_bins)\n",
    "    cell_y = np.digitize(longs,long_bins,right=True)\n",
    "    \n",
    "    if correction == True:\n",
    "        cell_x_corr = [i-1 if i==len(lat_bins) else i+1 if i==0 else i for i in cell_x] \n",
    "        cell_y_corr = [i-1 if i==len(long_bins) else i+1 if i==0 else i for i in cell_y]\n",
    "        \n",
    "        return cell_x_corr, cell_y_corr\n",
    "    \n",
    "    elif correction == False:\n",
    "        cell_x_excl = [-1 if i==0 or i==len(lat_bins) else i for i in cell_x]\n",
    "        cell_y_excl = [-1 if i==0 or i==len(long_bins) else i for i in cell_y]\n",
    "        \n",
    "        return cell_x_excl, cell_y_excl"
   ]
  },
  {
   "cell_type": "code",
   "execution_count": 11,
   "id": "fd1043a0",
   "metadata": {},
   "outputs": [],
   "source": [
    "## Generate cell coordinates\n",
    "processed_crime_data['CELL_X'],processed_crime_data['CELL_Y'] = getCellLocs(lats=processed_crime_data['LAT'].values,\n",
    "                                                                            longs=processed_crime_data['LONG'].values,\n",
    "                                                                            lat_bins=lat_bins,\n",
    "                                                                            long_bins=long_bins,\n",
    "                                                                            correction=True)\n",
    "# Filter out rows with cell coordinate values as -1 (occur in the case on correction == False)\n",
    "processed_crime_data = processed_crime_data[(processed_crime_data['CELL_X'] > -1) & \n",
    "                                            (processed_crime_data['CELL_Y'] > -1)]"
   ]
  },
  {
   "cell_type": "code",
   "execution_count": 12,
   "id": "43ca3846-586c-407f-8e07-778bc5f9660d",
   "metadata": {},
   "outputs": [],
   "source": [
    "# Function to fetch crime date from day, month and year\n",
    "def getDate(day, month, year):\n",
    "    dt = datetime(year, month, day)\n",
    "    date = dt.date()\n",
    "    return date"
   ]
  },
  {
   "cell_type": "code",
   "execution_count": 13,
   "id": "a428dab6-375c-483f-8609-582af9df3074",
   "metadata": {},
   "outputs": [],
   "source": [
    "# Fetch crime date\n",
    "processed_crime_data['DATE'] = processed_crime_data.apply(lambda row: getDate(day=row['DAY'],\n",
    "                                                                              month=row['MONTH'],\n",
    "                                                                              year=row['YEAR']),axis=1)\n",
    "\n",
    "# Order by crime date\n",
    "processed_crime_data.sort_values(by='DATE', inplace=True)"
   ]
  },
  {
   "cell_type": "code",
   "execution_count": 14,
   "id": "55de183a-ca89-422a-b97b-df2aad116906",
   "metadata": {},
   "outputs": [],
   "source": [
    "# Fetch crime broad category\n",
    "processed_crime_data['CAT'] = processed_crime_data.apply(lambda row: config.TYPE2CAT[row['TYPE']],axis=1)"
   ]
  },
  {
   "cell_type": "code",
   "execution_count": 15,
   "id": "9a254102-109b-4767-9cf8-8629a4aa8a92",
   "metadata": {},
   "outputs": [],
   "source": [
    "# Save processed crime data as pickle\n",
    "processed_crime_data.to_pickle('../data/processed_crime_data.pkl')"
   ]
  },
  {
   "cell_type": "code",
   "execution_count": 16,
   "id": "02cb56e3-8d88-4a9e-8b11-533b41aa20ea",
   "metadata": {},
   "outputs": [],
   "source": [
    "# Function to generate all cell coordinate combinations\n",
    "def getAllCombs(list_1,list_2):\n",
    "    all_combs = [(x,y) for x in list_1 for y in list_2]\n",
    "    return all_combs"
   ]
  },
  {
   "cell_type": "code",
   "execution_count": 17,
   "id": "3e181aa3-5723-44a7-a758-7d2dcfa70fdd",
   "metadata": {},
   "outputs": [],
   "source": [
    "# Function to create a pivot table\n",
    "def getPivot(data, values, index, columns, aggfunc, allcombs=False):\n",
    "    \n",
    "    # Create a pivot table with cell coordinates as columns and date and crime category as indices\n",
    "    data_pivot = data.pivot_table(values=values, index=index, columns=columns, aggfunc=aggfunc)\n",
    "    \n",
    "    # Flatten the column values\n",
    "    data_pivot.columns = data_pivot.columns.to_flat_index()\n",
    "    \n",
    "    if allcombs == True:\n",
    "        \n",
    "        # All possible cell values along a coordinate\n",
    "        cell_x_all = np.arange(1,n_bins+1,1)\n",
    "        \n",
    "        # Generate all cell cooridinate combinations\n",
    "        cell_all_pairs = getAllCombs(list_1=cell_x_all, list_2=cell_x_all)\n",
    "        \n",
    "        # All unique dates\n",
    "        unique_dates = processed_crime_data['DATE'].unique()\n",
    "        \n",
    "        # Generate all date-crime category combinations\n",
    "        date_cat_all_pairs = getAllCombs(list_1=unique_dates, list_2=config.CRIME_CATS)\n",
    "        \n",
    "        # Reindex the pivot table with all cell coordinate combinations as columns and \n",
    "        # all date-crime categories as indices\n",
    "        data_pivot_ri = data_pivot.reindex(date_cat_all_pairs).reindex(columns=cell_all_pairs).fillna(0)\n",
    "        \n",
    "        return data_pivot_ri\n",
    "    \n",
    "    else:\n",
    "        return data_pivot"
   ]
  },
  {
   "cell_type": "code",
   "execution_count": 18,
   "id": "0e14a382-dc00-48f9-bb4b-809f743ece20",
   "metadata": {},
   "outputs": [],
   "source": [
    "# Create a pivot table with all cell coordinates as columns and all date and crime category as indices\n",
    "crime_pivot = getPivot(data=processed_crime_data, values='TYPE', index=['DATE','CAT'], \n",
    "                       columns=['CELL_X','CELL_Y'], aggfunc='count', allcombs=True)"
   ]
  },
  {
   "cell_type": "code",
   "execution_count": 19,
   "id": "0b9501a2-c8c2-4b4d-b050-ee8234efb31b",
   "metadata": {},
   "outputs": [],
   "source": [
    "# Create an array of the pivot table values\n",
    "crime_arr = crime_pivot.values"
   ]
  },
  {
   "cell_type": "code",
   "execution_count": 20,
   "id": "bd4ea2b8-5332-4d34-b514-0339b6e024ab",
   "metadata": {},
   "outputs": [],
   "source": [
    "# Reshape the array to have 26x26 grids with crime categories number of channels.\n",
    "crime_arr_reshaped = crime_arr.reshape((-1,len(config.CRIME_CATS),n_bins,n_bins))"
   ]
  },
  {
   "cell_type": "code",
   "execution_count": 21,
   "id": "0fe5e2d9-de51-46aa-ad96-fdee5e42a831",
   "metadata": {},
   "outputs": [],
   "source": [
    "# Function to group number of samples to pairs of batch size and collect corresponding target sample\n",
    "def getFeaturesTargets(data, batch_size):\n",
    "    features = []\n",
    "    targets = []\n",
    "    for i in np.arange(0,data.shape[0]-(batch_size+1)):\n",
    "        feature_batch = data[i:i+batch_size]\n",
    "        target = data[i+batch_size+1]\n",
    "        features.append(feature_batch)\n",
    "        targets.append(target)\n",
    "    return features, targets"
   ]
  },
  {
   "cell_type": "code",
   "execution_count": 22,
   "id": "b0aeecba-4b07-4e21-8081-e255426d4760",
   "metadata": {},
   "outputs": [],
   "source": [
    "# Group number of samples to pairs of batch size and collect corresponding target sample\n",
    "features, targets = getFeaturesTargets(data=crime_arr_reshaped, batch_size=config.BATCH_SIZE)"
   ]
  },
  {
   "cell_type": "code",
   "execution_count": 23,
   "id": "fb30b26a-07c6-46a9-80b1-7f61a458c576",
   "metadata": {},
   "outputs": [],
   "source": [
    "# Convert features and targets to arrays\n",
    "features = np.array(features)\n",
    "targets = np.array(targets)"
   ]
  },
  {
   "cell_type": "code",
   "execution_count": 40,
   "id": "c3647bd4-6132-45c9-904e-58487d735438",
   "metadata": {},
   "outputs": [],
   "source": [
    "# Save the features and targets as pickle files\n",
    "with h5py.File('../data/features.h5', 'w') as hf:\n",
    "    hf.create_dataset(\"features\",  data=features)\n",
    "    \n",
    "with h5py.File('../data/targets.h5', 'w') as hf:\n",
    "    hf.create_dataset(\"targets\",  data=targets)\n",
    "   "
   ]
  },
  {
   "cell_type": "code",
   "execution_count": null,
   "id": "293ebb43-e02a-4f5e-b0bf-072a0e9fdec6",
   "metadata": {},
   "outputs": [],
   "source": []
  }
 ],
 "metadata": {
  "kernelspec": {
   "display_name": "Python 3.10.2 64-bit ('crimepred': conda)",
   "language": "python",
   "name": "python310264bitcrimepredconda2e2a4e88ddc84be9b842b1de10ae6e5e"
  },
  "language_info": {
   "codemirror_mode": {
    "name": "ipython",
    "version": 3
   },
   "file_extension": ".py",
   "mimetype": "text/x-python",
   "name": "python",
   "nbconvert_exporter": "python",
   "pygments_lexer": "ipython3",
   "version": "3.10.2"
  }
 },
 "nbformat": 4,
 "nbformat_minor": 5
}
