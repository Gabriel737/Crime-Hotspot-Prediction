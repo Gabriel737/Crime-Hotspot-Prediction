{
 "cells": [
  {
   "cell_type": "markdown",
   "metadata": {},
   "source": [
    "### CMPT 733 Project: Neighbourhood Geocoding"
   ]
  },
  {
   "cell_type": "code",
   "execution_count": 61,
   "metadata": {},
   "outputs": [],
   "source": [
    "import numpy as np\n",
    "import geopandas as gpd\n",
    "from shapely.geometry import Polygon"
   ]
  },
  {
   "cell_type": "code",
   "execution_count": 62,
   "metadata": {},
   "outputs": [
    {
     "data": {
      "text/html": [
       "<div>\n",
       "<style scoped>\n",
       "    .dataframe tbody tr th:only-of-type {\n",
       "        vertical-align: middle;\n",
       "    }\n",
       "\n",
       "    .dataframe tbody tr th {\n",
       "        vertical-align: top;\n",
       "    }\n",
       "\n",
       "    .dataframe thead th {\n",
       "        text-align: right;\n",
       "    }\n",
       "</style>\n",
       "<table border=\"1\" class=\"dataframe\">\n",
       "  <thead>\n",
       "    <tr style=\"text-align: right;\">\n",
       "      <th></th>\n",
       "      <th>mapid</th>\n",
       "      <th>name</th>\n",
       "      <th>geometry</th>\n",
       "    </tr>\n",
       "  </thead>\n",
       "  <tbody>\n",
       "    <tr>\n",
       "      <th>0</th>\n",
       "      <td>DS</td>\n",
       "      <td>Dunbar-Southlands</td>\n",
       "      <td>POLYGON ((-123.17017 49.24789, -123.17025 49.2...</td>\n",
       "    </tr>\n",
       "    <tr>\n",
       "      <th>1</th>\n",
       "      <td>KERR</td>\n",
       "      <td>Kerrisdale</td>\n",
       "      <td>POLYGON ((-123.17908 49.21556, -123.17870 49.2...</td>\n",
       "    </tr>\n",
       "    <tr>\n",
       "      <th>2</th>\n",
       "      <td>KIL</td>\n",
       "      <td>Killarney</td>\n",
       "      <td>POLYGON ((-123.02356 49.20015, -123.03998 49.2...</td>\n",
       "    </tr>\n",
       "    <tr>\n",
       "      <th>3</th>\n",
       "      <td>KITS</td>\n",
       "      <td>Kitsilano</td>\n",
       "      <td>POLYGON ((-123.13768 49.27532, -123.14375 49.2...</td>\n",
       "    </tr>\n",
       "    <tr>\n",
       "      <th>4</th>\n",
       "      <td>SC</td>\n",
       "      <td>South Cambie</td>\n",
       "      <td>POLYGON ((-123.11599 49.23794, -123.11617 49.2...</td>\n",
       "    </tr>\n",
       "  </tbody>\n",
       "</table>\n",
       "</div>"
      ],
      "text/plain": [
       "  mapid               name                                           geometry\n",
       "0    DS  Dunbar-Southlands  POLYGON ((-123.17017 49.24789, -123.17025 49.2...\n",
       "1  KERR         Kerrisdale  POLYGON ((-123.17908 49.21556, -123.17870 49.2...\n",
       "2   KIL          Killarney  POLYGON ((-123.02356 49.20015, -123.03998 49.2...\n",
       "3  KITS          Kitsilano  POLYGON ((-123.13768 49.27532, -123.14375 49.2...\n",
       "4    SC       South Cambie  POLYGON ((-123.11599 49.23794, -123.11617 49.2..."
      ]
     },
     "execution_count": 62,
     "metadata": {},
     "output_type": "execute_result"
    }
   ],
   "source": [
    "geodata = gpd.read_file('local-area-boundary.shp')\n",
    "geodata.head()"
   ]
  },
  {
   "cell_type": "code",
   "execution_count": 64,
   "metadata": {},
   "outputs": [
    {
     "name": "stdout",
     "output_type": "stream",
     "text": [
      "                        name\n",
      "0          Dunbar-Southlands\n",
      "1                 Kerrisdale\n",
      "2                  Killarney\n",
      "3                  Kitsilano\n",
      "4               South Cambie\n",
      "5        Victoria-Fraserview\n",
      "6              Arbutus-Ridge\n",
      "7                   Downtown\n",
      "8                   Fairview\n",
      "9         Grandview-Woodland\n",
      "10          Hastings-Sunrise\n",
      "11                   Marpole\n",
      "12                Riley Park\n",
      "13               Shaughnessy\n",
      "14                Strathcona\n",
      "15                  West End\n",
      "16  Kensington-Cedar Cottage\n",
      "17            Mount Pleasant\n",
      "18                  Oakridge\n",
      "19       Renfrew-Collingwood\n",
      "20                    Sunset\n",
      "21           West Point Grey\n"
     ]
    }
   ],
   "source": [
    "# This function takes four pairs of coordinates that represent a polygon \n",
    "# and returns a dataframe of all neighbourhoods that intersect the polygon\n",
    "\n",
    "def get_neighbourhoods(x0, x1, x2, x3, y0, y1, y2, y3, geodata):\n",
    "\n",
    "    coords = [(x0, y0), (x1, y1), (x2, y2), (x3, y3)]\n",
    "    square = Polygon(coords)\n",
    "\n",
    "    result = geodata['geometry'].intersects(square)\n",
    "    result = geodata.merge(result.rename('intersects'), left_index=True, right_index=True)\n",
    "    result = result[result['intersects'] == True]\n",
    "    result = result[['name']]\n",
    "\n",
    "    return result\n",
    "\n",
    "x = get_neighbourhoods(-1000, -1000, -1000, 1000, 1000, -1000, 1000, 1000, geodata)\n",
    "\n",
    "print(x)\n"
   ]
  }
 ],
 "metadata": {
  "interpreter": {
   "hash": "8e31da3599625bb28ad0967458f55847c820072d25f28d8bbf11e9b7a3d50d6d"
  },
  "kernelspec": {
   "display_name": "Python 3.9.7 ('base')",
   "language": "python",
   "name": "python3"
  },
  "language_info": {
   "codemirror_mode": {
    "name": "ipython",
    "version": 3
   },
   "file_extension": ".py",
   "mimetype": "text/x-python",
   "name": "python",
   "nbconvert_exporter": "python",
   "pygments_lexer": "ipython3",
   "version": "3.8.10"
  },
  "orig_nbformat": 4
 },
 "nbformat": 4,
 "nbformat_minor": 2
}
