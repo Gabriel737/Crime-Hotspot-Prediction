{
 "cells": [
  {
   "cell_type": "code",
   "execution_count": null,
   "id": "bea29e38",
   "metadata": {},
   "outputs": [],
   "source": [
    "##################### CRIME DATA #################"
   ]
  },
  {
   "cell_type": "code",
   "execution_count": 57,
   "id": "8a08ced1",
   "metadata": {},
   "outputs": [],
   "source": [
    "import h5py\n",
    "import numpy as np\n",
    "hf = h5py.File('../data/features.h5', 'r')\n",
    "# hf.keys()\n",
    "X=np.array(hf[\"features\"][:])\n",
    "hf.close()\n",
    "hf = h5py.File('../data/targets.h5', 'r')\n",
    "# hf.keys()\n",
    "y=np.array(hf[\"targets\"][:])"
   ]
  },
  {
   "cell_type": "code",
   "execution_count": 58,
   "id": "8ca07ff7",
   "metadata": {},
   "outputs": [
    {
     "name": "stdout",
     "output_type": "stream",
     "text": [
      "(6965, 16, 6, 26, 26)\n",
      "(6965, 6, 26, 26)\n"
     ]
    }
   ],
   "source": [
    "print(X.shape)\n",
    "print(y.shape)"
   ]
  },
  {
   "cell_type": "code",
   "execution_count": 59,
   "id": "ba1df466",
   "metadata": {},
   "outputs": [],
   "source": [
    "X=X.reshape(-1,26,26,16,6)\n",
    "y=y.reshape(-1,26,26,6)\n",
    "# y=np.expand_dims(y, axis=-2)"
   ]
  },
  {
   "cell_type": "code",
   "execution_count": 60,
   "id": "8c931c85",
   "metadata": {},
   "outputs": [
    {
     "name": "stdout",
     "output_type": "stream",
     "text": [
      "(6965, 26, 26, 16, 6)\n",
      "(6965, 26, 26, 6)\n"
     ]
    }
   ],
   "source": [
    "print(X.shape)\n",
    "print(y.shape)"
   ]
  },
  {
   "cell_type": "code",
   "execution_count": 62,
   "id": "a0a31877",
   "metadata": {},
   "outputs": [],
   "source": [
    "from sklearn.model_selection import train_test_split\n",
    "\n",
    "X_trainval, X_test, y_trainval, y_test = train_test_split(X, y, test_size=0.2, random_state=42)\n",
    "X_train, X_val, y_train, y_val = train_test_split(X_trainval, y_trainval, test_size=0.2, random_state=42)"
   ]
  },
  {
   "cell_type": "code",
   "execution_count": 63,
   "id": "5305aedd",
   "metadata": {},
   "outputs": [
    {
     "name": "stdout",
     "output_type": "stream",
     "text": [
      "(4457, 26, 26, 16, 6)\n",
      "(4457, 26, 26, 6)\n",
      "(1115, 26, 26, 16, 6)\n",
      "(1115, 26, 26, 6)\n",
      "(1393, 26, 26, 16, 6)\n",
      "(1393, 26, 26, 6)\n"
     ]
    }
   ],
   "source": [
    "print(X_train.shape)\n",
    "print(y_train.shape)\n",
    "print(X_val.shape)\n",
    "print(y_val.shape)\n",
    "print(X_test.shape)\n",
    "print(y_test.shape)"
   ]
  },
  {
   "cell_type": "code",
   "execution_count": 65,
   "id": "721c825d",
   "metadata": {},
   "outputs": [],
   "source": [
    "from tensorflow import keras\n",
    "from tensorflow.keras import layers"
   ]
  },
  {
   "cell_type": "code",
   "execution_count": 66,
   "id": "4ee3eb62",
   "metadata": {},
   "outputs": [],
   "source": [
    "time=16\n",
    "x=26\n",
    "y=26\n",
    "channels=6\n",
    "from keras.models import Sequential\n",
    "inp=layers.Input(shape=(x,y,time,channels))\n",
    "x=layers.ConvLSTM2D(filters=20, kernel_size=(3, 3)\n",
    "                       , data_format='channels_last'\n",
    "                       , recurrent_activation='hard_sigmoid'\n",
    "                       , activation='tanh'\n",
    "                   , padding='same', return_sequences=True)(inp)\n",
    "# x=layers.BatchNormalization()(x)\n",
    "x=layers.MaxPooling3D(pool_size=(1, 1, 2), padding='same', data_format='channels_last')(x)\n",
    "x=layers.ConvLSTM2D(filters=20, kernel_size=(3, 3)\n",
    "                       , data_format='channels_last'\n",
    "                       , recurrent_activation='hard_sigmoid'\n",
    "                       , activation='tanh'\n",
    "                   , padding='same', return_sequences=True)(x)\n",
    "# x=layers.BatchNormalization()(x)\n",
    "x=layers.MaxPooling3D(pool_size=(1, 1, 2), padding='same', data_format='channels_last')(x)\n",
    "x=layers.ConvLSTM2D(filters=20, kernel_size=(3, 3)\n",
    "                       , data_format='channels_last'\n",
    "                       , recurrent_activation='hard_sigmoid'\n",
    "                       , activation='tanh'\n",
    "                   , padding='same', return_sequences=True)(x)\n",
    "# x=layers.BatchNormalization()(x)\n",
    "x=layers.MaxPooling3D(pool_size=(1, 1, 2), padding='same', data_format='channels_last')(x)\n",
    "x=layers.ConvLSTM2D(filters=20, kernel_size=(3, 3)\n",
    "                       , data_format='channels_last'\n",
    "                       , recurrent_activation='hard_sigmoid'\n",
    "                       , activation='tanh'\n",
    "                   , padding='same', return_sequences=True)(x)\n",
    "# x=layers.BatchNormalization()(x)\n",
    "x=layers.MaxPooling3D(pool_size=(1, 1, 2), padding='same', data_format='channels_last')(x)\n",
    "x=layers.Conv3D(1, \n",
    "                     kernel_size = (3, 3, 1), \n",
    "                     padding = 'same',\n",
    "                     activation = 'relu')(x)\n",
    "\n",
    "model = keras.models.Model(inp, x)"
   ]
  },
  {
   "cell_type": "code",
   "execution_count": 67,
   "id": "c6b164bf",
   "metadata": {},
   "outputs": [
    {
     "name": "stdout",
     "output_type": "stream",
     "text": [
      "Model: \"model_4\"\n",
      "_________________________________________________________________\n",
      " Layer (type)                Output Shape              Param #   \n",
      "=================================================================\n",
      " input_5 (InputLayer)        [(None, 26, 26, 16, 6)]   0         \n",
      "                                                                 \n",
      " conv_lstm2d_16 (ConvLSTM2D)  (None, 26, 26, 16, 20)   18800     \n",
      "                                                                 \n",
      " max_pooling3d_16 (MaxPoolin  (None, 26, 26, 8, 20)    0         \n",
      " g3D)                                                            \n",
      "                                                                 \n",
      " conv_lstm2d_17 (ConvLSTM2D)  (None, 26, 26, 8, 20)    28880     \n",
      "                                                                 \n",
      " max_pooling3d_17 (MaxPoolin  (None, 26, 26, 4, 20)    0         \n",
      " g3D)                                                            \n",
      "                                                                 \n",
      " conv_lstm2d_18 (ConvLSTM2D)  (None, 26, 26, 4, 20)    28880     \n",
      "                                                                 \n",
      " max_pooling3d_18 (MaxPoolin  (None, 26, 26, 2, 20)    0         \n",
      " g3D)                                                            \n",
      "                                                                 \n",
      " conv_lstm2d_19 (ConvLSTM2D)  (None, 26, 26, 2, 20)    28880     \n",
      "                                                                 \n",
      " max_pooling3d_19 (MaxPoolin  (None, 26, 26, 1, 20)    0         \n",
      " g3D)                                                            \n",
      "                                                                 \n",
      " conv3d_4 (Conv3D)           (None, 26, 26, 1, 1)      181       \n",
      "                                                                 \n",
      "=================================================================\n",
      "Total params: 105,621\n",
      "Trainable params: 105,621\n",
      "Non-trainable params: 0\n",
      "_________________________________________________________________\n",
      "None\n"
     ]
    }
   ],
   "source": [
    "print(model.summary())"
   ]
  },
  {
   "cell_type": "code",
   "execution_count": 70,
   "id": "856c0a94",
   "metadata": {},
   "outputs": [
    {
     "name": "stdout",
     "output_type": "stream",
     "text": [
      "892/892 [==============================] - 948s 1s/step - loss: 0.1028 - val_loss: 0.1091 - lr: 0.0010\n"
     ]
    },
    {
     "data": {
      "text/plain": [
       "<keras.callbacks.History at 0x2105874efc8>"
      ]
     },
     "execution_count": 70,
     "metadata": {},
     "output_type": "execute_result"
    }
   ],
   "source": [
    "model.compile(\n",
    "    loss=keras.losses.binary_crossentropy, optimizer=keras.optimizers.Adam(),\n",
    ")\n",
    "# Define some callbacks to improve training.\n",
    "early_stopping = keras.callbacks.EarlyStopping(monitor=\"val_loss\", patience=10)\n",
    "reduce_lr = keras.callbacks.ReduceLROnPlateau(monitor=\"val_loss\", patience=5)\n",
    "\n",
    "# Define modifiable training hyperparameters.\n",
    "epochs = 1\n",
    "batch_size = 5\n",
    "\n",
    "# Fit the model to the training data.\n",
    "model.fit(\n",
    "    X_train,\n",
    "    y_train,\n",
    "    batch_size=batch_size,\n",
    "    epochs=epochs,\n",
    "    validation_data=(X_test, y_test),\n",
    "    callbacks=[early_stopping, reduce_lr],\n",
    ")"
   ]
  },
  {
   "cell_type": "code",
   "execution_count": 71,
   "id": "df8cc42c",
   "metadata": {},
   "outputs": [],
   "source": [
    "y_pred=model.predict(X_test)"
   ]
  },
  {
   "cell_type": "code",
   "execution_count": 72,
   "id": "5a2d1646",
   "metadata": {},
   "outputs": [
    {
     "name": "stdout",
     "output_type": "stream",
     "text": [
      "(1393, 26, 26, 6)\n",
      "(1393, 26, 26, 1, 1)\n"
     ]
    }
   ],
   "source": [
    "print(y_test.shape)\n",
    "print(y_pred.shape)\n",
    "# y_pred=np.squeeze(y_pred,axis=-1)\n",
    "# y_pred=np.squeeze(y_pred,axis=-1)\n",
    "# y_test=np.squeeze(y_test,axis=-1)\n",
    "# y_test=np.squeeze(y_test,axis=-1)"
   ]
  },
  {
   "cell_type": "code",
   "execution_count": 73,
   "id": "e88d4a73",
   "metadata": {},
   "outputs": [
    {
     "name": "stdout",
     "output_type": "stream",
     "text": [
      "(1393, 26, 26, 1)\n"
     ]
    }
   ],
   "source": [
    "y_pred=np.squeeze(y_pred,axis=-1)\n",
    "print(y_pred.shape)"
   ]
  },
  {
   "cell_type": "code",
   "execution_count": null,
   "id": "882cdc6b",
   "metadata": {},
   "outputs": [],
   "source": [
    "threshold=np.percentile(y_pred,96)\n",
    "def transform(x):\n",
    "    return x>=threshold"
   ]
  },
  {
   "cell_type": "code",
   "execution_count": null,
   "id": "2254d047",
   "metadata": {},
   "outputs": [],
   "source": [
    "y_pred=transform(y_pred)\n",
    "y_pred=y_pred.astype(int)"
   ]
  },
  {
   "cell_type": "code",
   "execution_count": null,
   "id": "d45030dd",
   "metadata": {},
   "outputs": [],
   "source": [
    "y_test\n",
    "y_pred"
   ]
  },
  {
   "cell_type": "code",
   "execution_count": null,
   "id": "5d2205ac",
   "metadata": {},
   "outputs": [],
   "source": [
    "from sklearn.metrics import precision_score, accuracy_score,recall_score,f1_score\n",
    "\n",
    "accuracy_score(y_test.flatten(), y_pred.flatten()),precision_score(y_test.flatten(), y_pred.flatten()),recall_score(y_test.flatten(), y_pred.flatten()),f1_score(y_test.flatten(), y_pred.flatten())"
   ]
  }
 ],
 "metadata": {
  "kernelspec": {
   "display_name": "Python 3",
   "language": "python",
   "name": "python3"
  },
  "language_info": {
   "codemirror_mode": {
    "name": "ipython",
    "version": 3
   },
   "file_extension": ".py",
   "mimetype": "text/x-python",
   "name": "python",
   "nbconvert_exporter": "python",
   "pygments_lexer": "ipython3",
   "version": "3.7.6"
  }
 },
 "nbformat": 4,
 "nbformat_minor": 5
}
