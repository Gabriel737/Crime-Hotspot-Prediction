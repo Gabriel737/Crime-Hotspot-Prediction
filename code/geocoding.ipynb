{
 "cells": [
  {
   "cell_type": "markdown",
   "metadata": {},
   "source": [
    "### CMPT 733 Project: Neighbourhood Geocoding"
   ]
  },
  {
   "cell_type": "code",
   "execution_count": 105,
   "metadata": {},
   "outputs": [],
   "source": [
    "import numpy as np\n",
    "import geopandas as gpd\n",
    "import random"
   ]
  },
  {
   "cell_type": "code",
   "execution_count": 4,
   "metadata": {},
   "outputs": [
    {
     "data": {
      "text/html": [
       "<div>\n",
       "<style scoped>\n",
       "    .dataframe tbody tr th:only-of-type {\n",
       "        vertical-align: middle;\n",
       "    }\n",
       "\n",
       "    .dataframe tbody tr th {\n",
       "        vertical-align: top;\n",
       "    }\n",
       "\n",
       "    .dataframe thead th {\n",
       "        text-align: right;\n",
       "    }\n",
       "</style>\n",
       "<table border=\"1\" class=\"dataframe\">\n",
       "  <thead>\n",
       "    <tr style=\"text-align: right;\">\n",
       "      <th></th>\n",
       "      <th>mapid</th>\n",
       "      <th>name</th>\n",
       "      <th>geometry</th>\n",
       "    </tr>\n",
       "  </thead>\n",
       "  <tbody>\n",
       "    <tr>\n",
       "      <th>0</th>\n",
       "      <td>DS</td>\n",
       "      <td>Dunbar-Southlands</td>\n",
       "      <td>POLYGON ((-123.17017 49.24789, -123.17025 49.2...</td>\n",
       "    </tr>\n",
       "    <tr>\n",
       "      <th>1</th>\n",
       "      <td>KERR</td>\n",
       "      <td>Kerrisdale</td>\n",
       "      <td>POLYGON ((-123.17908 49.21556, -123.17870 49.2...</td>\n",
       "    </tr>\n",
       "    <tr>\n",
       "      <th>2</th>\n",
       "      <td>KIL</td>\n",
       "      <td>Killarney</td>\n",
       "      <td>POLYGON ((-123.02356 49.20015, -123.03998 49.2...</td>\n",
       "    </tr>\n",
       "    <tr>\n",
       "      <th>3</th>\n",
       "      <td>KITS</td>\n",
       "      <td>Kitsilano</td>\n",
       "      <td>POLYGON ((-123.13768 49.27532, -123.14375 49.2...</td>\n",
       "    </tr>\n",
       "    <tr>\n",
       "      <th>4</th>\n",
       "      <td>SC</td>\n",
       "      <td>South Cambie</td>\n",
       "      <td>POLYGON ((-123.11599 49.23794, -123.11617 49.2...</td>\n",
       "    </tr>\n",
       "  </tbody>\n",
       "</table>\n",
       "</div>"
      ],
      "text/plain": [
       "  mapid               name                                           geometry\n",
       "0    DS  Dunbar-Southlands  POLYGON ((-123.17017 49.24789, -123.17025 49.2...\n",
       "1  KERR         Kerrisdale  POLYGON ((-123.17908 49.21556, -123.17870 49.2...\n",
       "2   KIL          Killarney  POLYGON ((-123.02356 49.20015, -123.03998 49.2...\n",
       "3  KITS          Kitsilano  POLYGON ((-123.13768 49.27532, -123.14375 49.2...\n",
       "4    SC       South Cambie  POLYGON ((-123.11599 49.23794, -123.11617 49.2..."
      ]
     },
     "execution_count": 4,
     "metadata": {},
     "output_type": "execute_result"
    }
   ],
   "source": [
    "geodata = gpd.read_file('local-area-boundary.shp')\n",
    "geodata.head()"
   ]
  },
  {
   "cell_type": "code",
   "execution_count": 196,
   "metadata": {},
   "outputs": [
    {
     "name": "stdout",
     "output_type": "stream",
     "text": [
      "(x, y) = (-123.12082896349172, 49.23617554787786)\n"
     ]
    }
   ],
   "source": [
    "def get_x_y(neighbourhood, geodata):\n",
    "    \n",
    "    SEARCH_LIMIT = 10\n",
    "\n",
    "    polygon = geodata[geodata['name'] == neighbourhood]\n",
    "    \n",
    "    if polygon.empty:\n",
    "        print('Failed to match neighbourhood name!')\n",
    "        return (0, 0)\n",
    "\n",
    "    # find the bounds of your geodataframe\n",
    "    x_min, y_min, x_max, y_max = polygon.geometry.total_bounds\n",
    "    \n",
    "    # generate random data within the bounds\n",
    "    x = np.random.uniform(x_min, x_max, SEARCH_LIMIT)\n",
    "    y = np.random.uniform(y_min, y_max, SEARCH_LIMIT)\n",
    "\n",
    "    # convert them to a points GeoSeries\n",
    "    gdf_points = gpd.GeoSeries(gpd.points_from_xy(x, y))\n",
    "    # only keep those points within polygons\n",
    "    gdf_points = gdf_points[gdf_points.within(polygon.unary_union)]\n",
    "\n",
    "    if gdf_points.empty:\n",
    "        print('Failed to retrieve random lat/long coordinate!')\n",
    "        return (0, 0)\n",
    "    \n",
    "    num_candidates = len(gdf_points.index)\n",
    "    index = random.randint(0, num_candidates - 1)\n",
    "    \n",
    "    return gdf_points.iloc[index].coords[0]\n",
    "\n",
    "\n",
    "print('(x, y) =', get_x_y('South Cambie', geodata))"
   ]
  }
 ],
 "metadata": {
  "interpreter": {
   "hash": "8e31da3599625bb28ad0967458f55847c820072d25f28d8bbf11e9b7a3d50d6d"
  },
  "kernelspec": {
   "display_name": "Python 3.9.7 ('base')",
   "language": "python",
   "name": "python3"
  },
  "language_info": {
   "codemirror_mode": {
    "name": "ipython",
    "version": 3
   },
   "file_extension": ".py",
   "mimetype": "text/x-python",
   "name": "python",
   "nbconvert_exporter": "python",
   "pygments_lexer": "ipython3",
   "version": "3.9.7"
  },
  "orig_nbformat": 4
 },
 "nbformat": 4,
 "nbformat_minor": 2
}
